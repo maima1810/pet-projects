{
 "cells": [
  {
   "cell_type": "markdown",
   "id": "e5e304b3",
   "metadata": {},
   "source": [
    "**<center> ГОСУДАРСТВЕННОЕ БЮДЖЕТНОЕ ОБРАЗОВАТЕЛЬНОЕ УЧРЕЖДЕНИЕ</center>**\n",
    "**<center>ГОРОДА МОСКВЫ</center>**\n",
    "**<center>ДОПОЛНИТЕЛЬНОГО ПРОФЕССИОНАЛЬНОГО ОБРАЗОВАНИЯ</center>**\n",
    "**<center>ЦЕНТР ПРОФЕССИОНАЛЬНЫХ КВАЛИФИКАЦИЙ И СОДЕЙСТВИЯ ТРУДОУСТРОЙСТВУ</center>**\n",
    "**<center>«ПРОФЕССИОНАЛ»</center>**\n",
    "<br>\n",
    "<br>\n",
    "<br>\n",
    "<br>\n",
    "<br>\n",
    "<br>\n",
    "<br>\n",
    "<br>\n",
    "<br>\n",
    "<br>\n",
    "<br>\n",
    "<br>\n",
    "<br>\n",
    "**<center>ИТОГОВАЯ АТТЕСТАЦИОННАЯ РАБОТА</center>**\n",
    "**<center>на тему</center>**\n",
    "**<center>«Анализ данных с использованием Python»</center>**\n",
    "**<center>(на примере данных о погоде в Москве и сообщений о ДТП, оставляемые пользователями Яндекс-навигатора)</center>**\n",
    "**<center>слушателя Максима Владимировича Воропаева</center>**\n",
    "**<center>группы № 0859-ГЗ</center>**\n",
    "**<center>по программе профессиональной переподготовки</center>**\n",
    "**<center>«Аналитик данных»</center>**\n",
    "<br>\n",
    "<br>\n",
    "<br>\n",
    "<br>\n",
    "<br>\n",
    "<br>\n",
    "<br>\n",
    "<br>\n",
    "<br>\n",
    "<br>\n",
    "<br>\n",
    "<br>\n",
    "<br>\n",
    "<br>\n",
    "<br>\n",
    "<br>\n",
    "<br>\n",
    "<br>\n",
    "<br>\n",
    "<br>\n",
    "<br>\n",
    "<br>\n",
    "**<center>Москва, 2022</center>**"
   ]
  },
  {
   "cell_type": "markdown",
   "id": "6544f542",
   "metadata": {},
   "source": [
    "## Цель исследования:\n",
    "\n",
    "Есть мнение, что как только начинается дождь или снег, водители начинают совершать больше ошиюок за рулем, что приводит к авариям. Проверим, действительно ли неблагоприятные погодные явления влияют на количество ДТП на дорогах Москвы.\n",
    "\n",
    "Выполнение задачи предполагает:\n",
    "\n",
    "1. Предобработку данных;\n",
    "2. Исследовательский анализ данных;\n",
    "3. Исследование статистических показателей;\n",
    "4. Проверку гипотез;\n",
    "5. Выводы.\n",
    "\n",
    "Для анализа используется два набора данных. Первый собран на информационно-справочном портале \"Погода и климат\" (http://www.pogodaiklimat.ru/archive.php?id=ru&region=77). К сожалению, сайт не располагает возможностью формировать набор данных в удобном виде (csv или xls файл). Возможно лишь выводить погоду за один месяц. Поэтому для формирования датасета с погодой в Москве за 2021 и 2022 года было потрачено некое количество времени: запрашивал погоду помесячно, копировал в эксель-файл, проводил манипуляции по приведению строк в удобный для работы вид. В результате пришлось пожертвовать данными по формам облаков. \n",
    "Второй (данные о ДТП, оставляемые пользователями приложения Яндекс-навигатор) взят из DataLens — универсальный облачный инструмент для анализа и визуализации данных. С помощью DataLens можно создавать отчеты, таблицы и графики. Ссылка на ресурс: https://cloud.yandex.ru/\n",
    "\n",
    "Шаг 1. Открытие первого файла с данными и изучение общей информации.\n",
    "\n",
    "Шаг 2. Подготовка данных:\n",
    "\n",
    "- Заменить названия столбцов для удобства дальнейшей работы.\n",
    "- Преобразовать данные в нужные типы. Описать, в каких столбцах заменили тип данных и почему.\n",
    "- Обработать пропуски при необходимости.\n",
    "- Объяснить, почему заполнили пропуски определённым образом или почему не стали это делать.\n",
    "- Описать причины, которые могли привести к пропускам.\n",
    "\n",
    "Шаг 3. Открыть второй файл с данными, подготовить их и объединить оба набора данных в один по столбцу дат.\n",
    "\n",
    "- Внести новый столбец \"Месяцы\" и \"Дни недели\" для анализа распределения осадков и ДТП по году и по дням. \n",
    "\n",
    "Шаг 4. Провести исследовательский анализ данных\n",
    "- Определить самый дождливый день за 2021-2022.\n",
    "- Построить график «ящик с усами» по скорости ветра, средней температуре и влажности. Построить диаграмму рассеяния и\n",
    "посчитать корреляцию.\n",
    "\n",
    "Шаг 5. Провести исследование статистических показателей\n",
    "- Выполнить подсчитать среднего количества, дисперсии и стандартного отклонения для осадков и ДТП. Построить гистограммы. Описать распределения.\n",
    "\n",
    "Шаг 6. Проверка гипотезы о том, что с увеличением количества осадков происходит рост ДТП.\n",
    "- Построить линейную регрессию зависимости между осадками и ДТП, снегом и ДТП.\n",
    "\n",
    "Выводы."
   ]
  },
  {
   "cell_type": "markdown",
   "id": "5588cfac",
   "metadata": {},
   "source": [
    "# 1. Предобработка данных"
   ]
  },
  {
   "cell_type": "markdown",
   "id": "7e7ca15d",
   "metadata": {},
   "source": [
    "Импортируем необходимые для работы библиотеки:"
   ]
  },
  {
   "cell_type": "code",
   "execution_count": 1,
   "id": "02f8b6ca",
   "metadata": {},
   "outputs": [],
   "source": [
    "import numpy as np # линейная алгебра\n",
    "import pandas as pd # загрузка и обработка данных (метод pd.read_csv)\n",
    "import matplotlib # визуализация данных\n",
    "import matplotlib.pyplot as plt # data visualization\n",
    "import seaborn as sns # статистическая визуализация данных\n",
    "import plotly.graph_objects as go # визуализация данных\n",
    "import plotly.express as px # визуализация данных\n",
    "%matplotlib inline\n",
    "from seaborn import regplot\n",
    "import scipy # статистика\n",
    "from scipy.stats import pearsonr\n",
    "import warnings\n",
    "warnings.filterwarnings('ignore') "
   ]
  },
  {
   "cell_type": "markdown",
   "id": "bd131b07",
   "metadata": {},
   "source": [
    "Загрузим собраный ранее xlsx-файл с погодой в Москве за 2021-2022 годы, посмотрим на первые пять строк:"
   ]
  },
  {
   "cell_type": "code",
   "execution_count": 2,
   "id": "dd944730",
   "metadata": {},
   "outputs": [
    {
     "data": {
      "text/html": [
       "<div>\n",
       "<style scoped>\n",
       "    .dataframe tbody tr th:only-of-type {\n",
       "        vertical-align: middle;\n",
       "    }\n",
       "\n",
       "    .dataframe tbody tr th {\n",
       "        vertical-align: top;\n",
       "    }\n",
       "\n",
       "    .dataframe thead th {\n",
       "        text-align: right;\n",
       "    }\n",
       "</style>\n",
       "<table border=\"1\" class=\"dataframe\">\n",
       "  <thead>\n",
       "    <tr style=\"text-align: right;\">\n",
       "      <th></th>\n",
       "      <th>Время, UTC</th>\n",
       "      <th>Дата</th>\n",
       "      <th>ВетерНапр</th>\n",
       "      <th>ВетерМС</th>\n",
       "      <th>Видим.</th>\n",
       "      <th>Явления</th>\n",
       "      <th>Облачность</th>\n",
       "      <th>Т, С</th>\n",
       "      <th>Тd, С</th>\n",
       "      <th>f, %</th>\n",
       "      <th>Тe, С</th>\n",
       "      <th>Тes, С</th>\n",
       "      <th>Комфортность</th>\n",
       "      <th>P, гПа</th>\n",
       "      <th>Po, гПа</th>\n",
       "      <th>Тmin, С</th>\n",
       "      <th>Tmax, С</th>\n",
       "      <th>R, мм</th>\n",
       "      <th>R24, мм</th>\n",
       "      <th>S, см</th>\n",
       "    </tr>\n",
       "  </thead>\n",
       "  <tbody>\n",
       "    <tr>\n",
       "      <th>0</th>\n",
       "      <td>0</td>\n",
       "      <td>2021-01-01</td>\n",
       "      <td>Ю</td>\n",
       "      <td>2.0</td>\n",
       "      <td>NaN</td>\n",
       "      <td>дымка</td>\n",
       "      <td>10/10 200 м</td>\n",
       "      <td>-1.0</td>\n",
       "      <td>-1.9</td>\n",
       "      <td>94.0</td>\n",
       "      <td>-5.0</td>\n",
       "      <td>-5.0</td>\n",
       "      <td>по сезону</td>\n",
       "      <td>1019.2</td>\n",
       "      <td>999.2</td>\n",
       "      <td>NaN</td>\n",
       "      <td>NaN</td>\n",
       "      <td>NaN</td>\n",
       "      <td>0.0</td>\n",
       "      <td>NaN</td>\n",
       "    </tr>\n",
       "    <tr>\n",
       "      <th>1</th>\n",
       "      <td>3</td>\n",
       "      <td>2021-01-01</td>\n",
       "      <td>Ю</td>\n",
       "      <td>2.0</td>\n",
       "      <td>NaN</td>\n",
       "      <td>дымка {дождь} [диам. гололёда 4 мм]</td>\n",
       "      <td>10/10 100 м</td>\n",
       "      <td>-0.9</td>\n",
       "      <td>-1.7</td>\n",
       "      <td>94.0</td>\n",
       "      <td>-5.0</td>\n",
       "      <td>-5.0</td>\n",
       "      <td>по сезону</td>\n",
       "      <td>1018.7</td>\n",
       "      <td>998.8</td>\n",
       "      <td>-1.5</td>\n",
       "      <td>NaN</td>\n",
       "      <td>3.0</td>\n",
       "      <td>0.0</td>\n",
       "      <td>NaN</td>\n",
       "    </tr>\n",
       "    <tr>\n",
       "      <th>2</th>\n",
       "      <td>6</td>\n",
       "      <td>2021-01-01</td>\n",
       "      <td>ЮВ</td>\n",
       "      <td>1.0</td>\n",
       "      <td>1000.0</td>\n",
       "      <td>дымка {дождь} [диам. гололёда 4 мм]</td>\n",
       "      <td>10/10 200 м</td>\n",
       "      <td>-0.9</td>\n",
       "      <td>-1.3</td>\n",
       "      <td>97.0</td>\n",
       "      <td>-3.0</td>\n",
       "      <td>-3.0</td>\n",
       "      <td>тепло</td>\n",
       "      <td>1018.4</td>\n",
       "      <td>998.5</td>\n",
       "      <td>-1.5</td>\n",
       "      <td>NaN</td>\n",
       "      <td>3.0</td>\n",
       "      <td>0.0</td>\n",
       "      <td>11.0</td>\n",
       "    </tr>\n",
       "    <tr>\n",
       "      <th>3</th>\n",
       "      <td>9</td>\n",
       "      <td>2021-01-01</td>\n",
       "      <td>ЮВ</td>\n",
       "      <td>2.0</td>\n",
       "      <td>4000.0</td>\n",
       "      <td>дымка [диам. гололёда 4 мм]</td>\n",
       "      <td>10/10 200 м</td>\n",
       "      <td>-0.4</td>\n",
       "      <td>-1.0</td>\n",
       "      <td>96.0</td>\n",
       "      <td>-4.0</td>\n",
       "      <td>-4.0</td>\n",
       "      <td>по сезону</td>\n",
       "      <td>1018.5</td>\n",
       "      <td>998.6</td>\n",
       "      <td>NaN</td>\n",
       "      <td>NaN</td>\n",
       "      <td>NaN</td>\n",
       "      <td>NaN</td>\n",
       "      <td>NaN</td>\n",
       "    </tr>\n",
       "    <tr>\n",
       "      <th>4</th>\n",
       "      <td>12</td>\n",
       "      <td>2021-01-01</td>\n",
       "      <td>ЮВ</td>\n",
       "      <td>1.0</td>\n",
       "      <td>4000.0</td>\n",
       "      <td>слаб. дождь [диам. гололёда 4 мм]</td>\n",
       "      <td>10/10 200 м</td>\n",
       "      <td>0.0</td>\n",
       "      <td>-0.6</td>\n",
       "      <td>96.0</td>\n",
       "      <td>-2.0</td>\n",
       "      <td>-2.0</td>\n",
       "      <td>тепло</td>\n",
       "      <td>1017.7</td>\n",
       "      <td>997.9</td>\n",
       "      <td>NaN</td>\n",
       "      <td>NaN</td>\n",
       "      <td>NaN</td>\n",
       "      <td>NaN</td>\n",
       "      <td>NaN</td>\n",
       "    </tr>\n",
       "  </tbody>\n",
       "</table>\n",
       "</div>"
      ],
      "text/plain": [
       "   Время, UTC       Дата ВетерНапр  ВетерМС  Видим.  \\\n",
       "0           0 2021-01-01         Ю      2.0     NaN   \n",
       "1           3 2021-01-01         Ю      2.0     NaN   \n",
       "2           6 2021-01-01        ЮВ      1.0  1000.0   \n",
       "3           9 2021-01-01        ЮВ      2.0  4000.0   \n",
       "4          12 2021-01-01        ЮВ      1.0  4000.0   \n",
       "\n",
       "                               Явления   Облачность  Т, С  Тd, С  f, %  Тe, С  \\\n",
       "0                                дымка  10/10 200 м  -1.0   -1.9  94.0   -5.0   \n",
       "1  дымка {дождь} [диам. гололёда 4 мм]  10/10 100 м  -0.9   -1.7  94.0   -5.0   \n",
       "2  дымка {дождь} [диам. гололёда 4 мм]  10/10 200 м  -0.9   -1.3  97.0   -3.0   \n",
       "3          дымка [диам. гололёда 4 мм]  10/10 200 м  -0.4   -1.0  96.0   -4.0   \n",
       "4    слаб. дождь [диам. гололёда 4 мм]  10/10 200 м   0.0   -0.6  96.0   -2.0   \n",
       "\n",
       "   Тes, С Комфортность  P, гПа  Po, гПа  Тmin, С  Tmax, С  R, мм  R24, мм  \\\n",
       "0    -5.0    по сезону  1019.2    999.2      NaN      NaN    NaN      0.0   \n",
       "1    -5.0    по сезону  1018.7    998.8     -1.5      NaN    3.0      0.0   \n",
       "2    -3.0        тепло  1018.4    998.5     -1.5      NaN    3.0      0.0   \n",
       "3    -4.0    по сезону  1018.5    998.6      NaN      NaN    NaN      NaN   \n",
       "4    -2.0        тепло  1017.7    997.9      NaN      NaN    NaN      NaN   \n",
       "\n",
       "   S, см  \n",
       "0    NaN  \n",
       "1    NaN  \n",
       "2   11.0  \n",
       "3    NaN  \n",
       "4    NaN  "
      ]
     },
     "execution_count": 2,
     "metadata": {},
     "output_type": "execute_result"
    }
   ],
   "source": [
    "df = pd.read_excel('data/moscow_weather_2021-2022.xlsx')\n",
    "df.head(5)"
   ]
  },
  {
   "cell_type": "markdown",
   "id": "aa6efc95",
   "metadata": {},
   "source": [
    "На сайте-источнике данных есть пояснения к столбцам:"
   ]
  },
  {
   "cell_type": "markdown",
   "id": "e59c7f6e",
   "metadata": {},
   "source": [
    "http://www.pogodaiklimat.ru/weather.php?id=27612\n",
    "\n",
    "- Ветер - указаны скорость ветра в м/с - средняя за 10 мин, порывы в срок и между сроками (в фигурных скобках) и направление, откуда дует ветер: С - северный, СВ - северо-восточный, В - восточный, ЮВ - юго-восточный, Ю - южный, ЮЗ - юго-западный, З - западный, СЗ - северо-западный.\n",
    "\n",
    "- Видимость - горизонтальная дальность видимости в метрах или километрах. При видимости от 1 до 10 км при отсутствии осадков обычно наблюдается дымка, при ухудшении видимости до 1 км и менее - туман. В сухую погоду видимость может ухудшаться дымом, пылью или мглою.\n",
    "\n",
    "- Явления - указаны атмосферные явления, наблюдавшиеся в срок или в последний час перед сроком; фигурными скобками обозначены явления, наблюдавшиеся между сроками (за 1-3 часа до срока); квадратными скобками обозначены град или гололедные отложения с указанием их диаметра в мм.\n",
    "\n",
    "- Облачность - указаны через наклонную черту общая и нижняя облачность в баллах и высота нижней границы облаков в метрах; квадратными скобками обозначены формы облаков: Ci - перистые, Cs - перисто-слоистые, Cc - перисто-кучевые, Ac - высококучевые, As - высокослоистые, Sc - слоисто-кучевые, Ns - слоисто-дождевые, Cu - кучевые, Cb - кучево-дождевые. Подробнее классификацию облаков см. в Атласе облаков (PDF).\n",
    "\n",
    "- T - Температура воздуха - температура, измеренная на высоте 2 м над землей.\n",
    "\n",
    "- Td - Температура точки росы - температура, при понижении до которой содержащийся в воздухе водяной пар достигнет насыщения.\n",
    "\n",
    "- f - Относительная влажность воздуха - влажноcть воздуха, измеренная на высоте 2 м над землей.\n",
    "\n",
    "- Te - Эффективная температура - температура, которую ощущает одетый по сезону человек в тени. Характеристика душности погоды. При расчете учитывается влияние влажности воздуха и скорости ветра на теплоощущения человека.\n",
    "\n",
    "- Tes - Эффективная температура на солнце - температура, которую ощущает человек, с поправкой на солнечный нагрев. Характеристика знойности погоды. Зависит от высоты солнца над горизонтом, облачности и скорости ветра. Ночью, в пасмурную погоду, а также при ветре 12 м/с и более поправка равна нулю.\n",
    "\n",
    "- P - Атмосферное давление - приведенное к уровню моря атмосферное давление.\n",
    "\n",
    "- Po - Атмосферное давление - измеренное на уровне метеостанции атмосферное давление.\n",
    "\n",
    "- Tmin - Минимальная температура - минимум температуры воздуха на высоте 2 м над землей.\n",
    "\n",
    "- Tmax - Максимальная температура - максимум температуры воздуха на высоте 2 м над землей.\n",
    "\n",
    "- R - Количество осадков - Количество выпавших осадков за период времени, мм. При наведении курсора мыши на число - период времени, за который выпало указанное количество осадков.\n",
    "\n",
    "- R24 - Количество осадков - Количество выпавших осадков за 24 часа, мм.\n",
    "\n",
    "- S - Снежный покров - Высота снежного покрова, см. При наведении курсора мыши на число - состояние снежного покрова и степень покрытия местности в баллах.\n"
   ]
  },
  {
   "cell_type": "markdown",
   "id": "8df134de",
   "metadata": {},
   "source": [
    "Переименуем заголовки столбцов для удобства дальнейшего использования: "
   ]
  },
  {
   "cell_type": "code",
   "execution_count": 3,
   "id": "3585153a",
   "metadata": {},
   "outputs": [
    {
     "data": {
      "text/html": [
       "<div>\n",
       "<style scoped>\n",
       "    .dataframe tbody tr th:only-of-type {\n",
       "        vertical-align: middle;\n",
       "    }\n",
       "\n",
       "    .dataframe tbody tr th {\n",
       "        vertical-align: top;\n",
       "    }\n",
       "\n",
       "    .dataframe thead th {\n",
       "        text-align: right;\n",
       "    }\n",
       "</style>\n",
       "<table border=\"1\" class=\"dataframe\">\n",
       "  <thead>\n",
       "    <tr style=\"text-align: right;\">\n",
       "      <th></th>\n",
       "      <th>Time</th>\n",
       "      <th>Date</th>\n",
       "      <th>WindDir</th>\n",
       "      <th>WindSpeed</th>\n",
       "      <th>Visibility</th>\n",
       "      <th>Phenomenas</th>\n",
       "      <th>Сloudiness</th>\n",
       "      <th>Temp</th>\n",
       "      <th>DewPointTemp</th>\n",
       "      <th>AirHumidity</th>\n",
       "      <th>EffectiveTemp</th>\n",
       "      <th>EffectiveSunTemp</th>\n",
       "      <th>Comfortness</th>\n",
       "      <th>SeaAtmPressure</th>\n",
       "      <th>AtmPressure</th>\n",
       "      <th>Tmin</th>\n",
       "      <th>Tmax</th>\n",
       "      <th>Rainfall</th>\n",
       "      <th>Rainfall24</th>\n",
       "      <th>Snow</th>\n",
       "    </tr>\n",
       "  </thead>\n",
       "  <tbody>\n",
       "    <tr>\n",
       "      <th>0</th>\n",
       "      <td>0</td>\n",
       "      <td>2021-01-01</td>\n",
       "      <td>Ю</td>\n",
       "      <td>2.0</td>\n",
       "      <td>NaN</td>\n",
       "      <td>дымка</td>\n",
       "      <td>10/10 200 м</td>\n",
       "      <td>-1.0</td>\n",
       "      <td>-1.9</td>\n",
       "      <td>94.0</td>\n",
       "      <td>-5.0</td>\n",
       "      <td>-5.0</td>\n",
       "      <td>по сезону</td>\n",
       "      <td>1019.2</td>\n",
       "      <td>999.2</td>\n",
       "      <td>NaN</td>\n",
       "      <td>NaN</td>\n",
       "      <td>NaN</td>\n",
       "      <td>0.0</td>\n",
       "      <td>NaN</td>\n",
       "    </tr>\n",
       "    <tr>\n",
       "      <th>1</th>\n",
       "      <td>3</td>\n",
       "      <td>2021-01-01</td>\n",
       "      <td>Ю</td>\n",
       "      <td>2.0</td>\n",
       "      <td>NaN</td>\n",
       "      <td>дымка {дождь} [диам. гололёда 4 мм]</td>\n",
       "      <td>10/10 100 м</td>\n",
       "      <td>-0.9</td>\n",
       "      <td>-1.7</td>\n",
       "      <td>94.0</td>\n",
       "      <td>-5.0</td>\n",
       "      <td>-5.0</td>\n",
       "      <td>по сезону</td>\n",
       "      <td>1018.7</td>\n",
       "      <td>998.8</td>\n",
       "      <td>-1.5</td>\n",
       "      <td>NaN</td>\n",
       "      <td>3.0</td>\n",
       "      <td>0.0</td>\n",
       "      <td>NaN</td>\n",
       "    </tr>\n",
       "    <tr>\n",
       "      <th>2</th>\n",
       "      <td>6</td>\n",
       "      <td>2021-01-01</td>\n",
       "      <td>ЮВ</td>\n",
       "      <td>1.0</td>\n",
       "      <td>1000.0</td>\n",
       "      <td>дымка {дождь} [диам. гололёда 4 мм]</td>\n",
       "      <td>10/10 200 м</td>\n",
       "      <td>-0.9</td>\n",
       "      <td>-1.3</td>\n",
       "      <td>97.0</td>\n",
       "      <td>-3.0</td>\n",
       "      <td>-3.0</td>\n",
       "      <td>тепло</td>\n",
       "      <td>1018.4</td>\n",
       "      <td>998.5</td>\n",
       "      <td>-1.5</td>\n",
       "      <td>NaN</td>\n",
       "      <td>3.0</td>\n",
       "      <td>0.0</td>\n",
       "      <td>11.0</td>\n",
       "    </tr>\n",
       "    <tr>\n",
       "      <th>3</th>\n",
       "      <td>9</td>\n",
       "      <td>2021-01-01</td>\n",
       "      <td>ЮВ</td>\n",
       "      <td>2.0</td>\n",
       "      <td>4000.0</td>\n",
       "      <td>дымка [диам. гололёда 4 мм]</td>\n",
       "      <td>10/10 200 м</td>\n",
       "      <td>-0.4</td>\n",
       "      <td>-1.0</td>\n",
       "      <td>96.0</td>\n",
       "      <td>-4.0</td>\n",
       "      <td>-4.0</td>\n",
       "      <td>по сезону</td>\n",
       "      <td>1018.5</td>\n",
       "      <td>998.6</td>\n",
       "      <td>NaN</td>\n",
       "      <td>NaN</td>\n",
       "      <td>NaN</td>\n",
       "      <td>NaN</td>\n",
       "      <td>NaN</td>\n",
       "    </tr>\n",
       "    <tr>\n",
       "      <th>4</th>\n",
       "      <td>12</td>\n",
       "      <td>2021-01-01</td>\n",
       "      <td>ЮВ</td>\n",
       "      <td>1.0</td>\n",
       "      <td>4000.0</td>\n",
       "      <td>слаб. дождь [диам. гололёда 4 мм]</td>\n",
       "      <td>10/10 200 м</td>\n",
       "      <td>0.0</td>\n",
       "      <td>-0.6</td>\n",
       "      <td>96.0</td>\n",
       "      <td>-2.0</td>\n",
       "      <td>-2.0</td>\n",
       "      <td>тепло</td>\n",
       "      <td>1017.7</td>\n",
       "      <td>997.9</td>\n",
       "      <td>NaN</td>\n",
       "      <td>NaN</td>\n",
       "      <td>NaN</td>\n",
       "      <td>NaN</td>\n",
       "      <td>NaN</td>\n",
       "    </tr>\n",
       "    <tr>\n",
       "      <th>...</th>\n",
       "      <td>...</td>\n",
       "      <td>...</td>\n",
       "      <td>...</td>\n",
       "      <td>...</td>\n",
       "      <td>...</td>\n",
       "      <td>...</td>\n",
       "      <td>...</td>\n",
       "      <td>...</td>\n",
       "      <td>...</td>\n",
       "      <td>...</td>\n",
       "      <td>...</td>\n",
       "      <td>...</td>\n",
       "      <td>...</td>\n",
       "      <td>...</td>\n",
       "      <td>...</td>\n",
       "      <td>...</td>\n",
       "      <td>...</td>\n",
       "      <td>...</td>\n",
       "      <td>...</td>\n",
       "      <td>...</td>\n",
       "    </tr>\n",
       "    <tr>\n",
       "      <th>5340</th>\n",
       "      <td>9</td>\n",
       "      <td>2022-10-31</td>\n",
       "      <td>СЗ</td>\n",
       "      <td>2.0</td>\n",
       "      <td>20000.0</td>\n",
       "      <td>{ливн. снег, снег}</td>\n",
       "      <td>10/10 870 м</td>\n",
       "      <td>1.8</td>\n",
       "      <td>-1.3</td>\n",
       "      <td>80.0</td>\n",
       "      <td>-1.0</td>\n",
       "      <td>-1.0</td>\n",
       "      <td>по сезону</td>\n",
       "      <td>1005.1</td>\n",
       "      <td>986.6</td>\n",
       "      <td>NaN</td>\n",
       "      <td>NaN</td>\n",
       "      <td>NaN</td>\n",
       "      <td>NaN</td>\n",
       "      <td>NaN</td>\n",
       "    </tr>\n",
       "    <tr>\n",
       "      <th>5341</th>\n",
       "      <td>12</td>\n",
       "      <td>2022-10-31</td>\n",
       "      <td>СЗ</td>\n",
       "      <td>2.0</td>\n",
       "      <td>20000.0</td>\n",
       "      <td>{ливн. снег, снег}</td>\n",
       "      <td>10/10 600 м</td>\n",
       "      <td>2.4</td>\n",
       "      <td>-1.0</td>\n",
       "      <td>78.0</td>\n",
       "      <td>-1.0</td>\n",
       "      <td>-1.0</td>\n",
       "      <td>прохладно</td>\n",
       "      <td>1007.2</td>\n",
       "      <td>988.7</td>\n",
       "      <td>NaN</td>\n",
       "      <td>NaN</td>\n",
       "      <td>NaN</td>\n",
       "      <td>NaN</td>\n",
       "      <td>NaN</td>\n",
       "    </tr>\n",
       "    <tr>\n",
       "      <th>5342</th>\n",
       "      <td>15</td>\n",
       "      <td>2022-10-31</td>\n",
       "      <td>СЗ</td>\n",
       "      <td>3.0</td>\n",
       "      <td>19000.0</td>\n",
       "      <td>слаб. ливневой снег</td>\n",
       "      <td>9/9 540 м</td>\n",
       "      <td>2.6</td>\n",
       "      <td>-0.4</td>\n",
       "      <td>81.0</td>\n",
       "      <td>-1.0</td>\n",
       "      <td>-1.0</td>\n",
       "      <td>по сезону</td>\n",
       "      <td>1009.0</td>\n",
       "      <td>990.5</td>\n",
       "      <td>NaN</td>\n",
       "      <td>NaN</td>\n",
       "      <td>0.4</td>\n",
       "      <td>NaN</td>\n",
       "      <td>NaN</td>\n",
       "    </tr>\n",
       "    <tr>\n",
       "      <th>5343</th>\n",
       "      <td>18</td>\n",
       "      <td>2022-10-31</td>\n",
       "      <td>СЗ</td>\n",
       "      <td>3.0</td>\n",
       "      <td>20000.0</td>\n",
       "      <td>{ливн. снег}</td>\n",
       "      <td>10/10 540 м</td>\n",
       "      <td>2.1</td>\n",
       "      <td>-1.2</td>\n",
       "      <td>79.0</td>\n",
       "      <td>-2.0</td>\n",
       "      <td>-2.0</td>\n",
       "      <td>прохладно</td>\n",
       "      <td>1011.3</td>\n",
       "      <td>992.8</td>\n",
       "      <td>NaN</td>\n",
       "      <td>2.9</td>\n",
       "      <td>0.1</td>\n",
       "      <td>NaN</td>\n",
       "      <td>NaN</td>\n",
       "    </tr>\n",
       "    <tr>\n",
       "      <th>5344</th>\n",
       "      <td>21</td>\n",
       "      <td>2022-10-31</td>\n",
       "      <td>СЗ</td>\n",
       "      <td>3.0</td>\n",
       "      <td>16000.0</td>\n",
       "      <td>слаб. снег</td>\n",
       "      <td>10/10 500 м</td>\n",
       "      <td>1.3</td>\n",
       "      <td>-1.4</td>\n",
       "      <td>82.0</td>\n",
       "      <td>-3.0</td>\n",
       "      <td>-3.0</td>\n",
       "      <td>прохладно</td>\n",
       "      <td>1013.3</td>\n",
       "      <td>994.6</td>\n",
       "      <td>NaN</td>\n",
       "      <td>NaN</td>\n",
       "      <td>NaN</td>\n",
       "      <td>2.0</td>\n",
       "      <td>NaN</td>\n",
       "    </tr>\n",
       "  </tbody>\n",
       "</table>\n",
       "<p>5345 rows × 20 columns</p>\n",
       "</div>"
      ],
      "text/plain": [
       "      Time       Date WindDir  WindSpeed  Visibility  \\\n",
       "0        0 2021-01-01       Ю        2.0         NaN   \n",
       "1        3 2021-01-01       Ю        2.0         NaN   \n",
       "2        6 2021-01-01      ЮВ        1.0      1000.0   \n",
       "3        9 2021-01-01      ЮВ        2.0      4000.0   \n",
       "4       12 2021-01-01      ЮВ        1.0      4000.0   \n",
       "...    ...        ...     ...        ...         ...   \n",
       "5340     9 2022-10-31      СЗ        2.0     20000.0   \n",
       "5341    12 2022-10-31      СЗ        2.0     20000.0   \n",
       "5342    15 2022-10-31      СЗ        3.0     19000.0   \n",
       "5343    18 2022-10-31      СЗ        3.0     20000.0   \n",
       "5344    21 2022-10-31      СЗ        3.0     16000.0   \n",
       "\n",
       "                               Phenomenas   Сloudiness  Temp  DewPointTemp  \\\n",
       "0                                   дымка  10/10 200 м  -1.0          -1.9   \n",
       "1     дымка {дождь} [диам. гололёда 4 мм]  10/10 100 м  -0.9          -1.7   \n",
       "2     дымка {дождь} [диам. гололёда 4 мм]  10/10 200 м  -0.9          -1.3   \n",
       "3             дымка [диам. гололёда 4 мм]  10/10 200 м  -0.4          -1.0   \n",
       "4       слаб. дождь [диам. гололёда 4 мм]  10/10 200 м   0.0          -0.6   \n",
       "...                                   ...          ...   ...           ...   \n",
       "5340                   {ливн. снег, снег}  10/10 870 м   1.8          -1.3   \n",
       "5341                   {ливн. снег, снег}  10/10 600 м   2.4          -1.0   \n",
       "5342                  слаб. ливневой снег    9/9 540 м   2.6          -0.4   \n",
       "5343                         {ливн. снег}  10/10 540 м   2.1          -1.2   \n",
       "5344                           слаб. снег  10/10 500 м   1.3          -1.4   \n",
       "\n",
       "      AirHumidity  EffectiveTemp  EffectiveSunTemp Comfortness  \\\n",
       "0            94.0           -5.0              -5.0   по сезону   \n",
       "1            94.0           -5.0              -5.0   по сезону   \n",
       "2            97.0           -3.0              -3.0       тепло   \n",
       "3            96.0           -4.0              -4.0   по сезону   \n",
       "4            96.0           -2.0              -2.0       тепло   \n",
       "...           ...            ...               ...         ...   \n",
       "5340         80.0           -1.0              -1.0   по сезону   \n",
       "5341         78.0           -1.0              -1.0   прохладно   \n",
       "5342         81.0           -1.0              -1.0   по сезону   \n",
       "5343         79.0           -2.0              -2.0   прохладно   \n",
       "5344         82.0           -3.0              -3.0   прохладно   \n",
       "\n",
       "      SeaAtmPressure  AtmPressure  Tmin  Tmax  Rainfall  Rainfall24  Snow  \n",
       "0             1019.2        999.2   NaN   NaN       NaN         0.0   NaN  \n",
       "1             1018.7        998.8  -1.5   NaN       3.0         0.0   NaN  \n",
       "2             1018.4        998.5  -1.5   NaN       3.0         0.0  11.0  \n",
       "3             1018.5        998.6   NaN   NaN       NaN         NaN   NaN  \n",
       "4             1017.7        997.9   NaN   NaN       NaN         NaN   NaN  \n",
       "...              ...          ...   ...   ...       ...         ...   ...  \n",
       "5340          1005.1        986.6   NaN   NaN       NaN         NaN   NaN  \n",
       "5341          1007.2        988.7   NaN   NaN       NaN         NaN   NaN  \n",
       "5342          1009.0        990.5   NaN   NaN       0.4         NaN   NaN  \n",
       "5343          1011.3        992.8   NaN   2.9       0.1         NaN   NaN  \n",
       "5344          1013.3        994.6   NaN   NaN       NaN         2.0   NaN  \n",
       "\n",
       "[5345 rows x 20 columns]"
      ]
     },
     "execution_count": 3,
     "metadata": {},
     "output_type": "execute_result"
    }
   ],
   "source": [
    "df.columns = ['Time', 'Date', 'WindDir', 'WindSpeed', 'Visibility', \n",
    "              'Phenomenas', 'Сloudiness', 'Temp', 'DewPointTemp', \n",
    "              'AirHumidity', 'EffectiveTemp', 'EffectiveSunTemp',\n",
    "              'Comfortness', 'SeaAtmPressure', 'AtmPressure', 'Tmin',\n",
    "              'Tmax', 'Rainfall', 'Rainfall24', 'Snow']\n",
    "df"
   ]
  },
  {
   "cell_type": "markdown",
   "id": "10e60f66",
   "metadata": {},
   "source": [
    "Посмотрим информацию о датасете:"
   ]
  },
  {
   "cell_type": "code",
   "execution_count": 4,
   "id": "f62100b6",
   "metadata": {},
   "outputs": [
    {
     "name": "stdout",
     "output_type": "stream",
     "text": [
      "<class 'pandas.core.frame.DataFrame'>\n",
      "RangeIndex: 5345 entries, 0 to 5344\n",
      "Data columns (total 20 columns):\n",
      " #   Column            Non-Null Count  Dtype         \n",
      "---  ------            --------------  -----         \n",
      " 0   Time              5345 non-null   int64         \n",
      " 1   Date              5345 non-null   datetime64[ns]\n",
      " 2   WindDir           5344 non-null   object        \n",
      " 3   WindSpeed         5344 non-null   float64       \n",
      " 4   Visibility        4537 non-null   float64       \n",
      " 5   Phenomenas        2164 non-null   object        \n",
      " 6   Сloudiness        5332 non-null   object        \n",
      " 7   Temp              5344 non-null   float64       \n",
      " 8   DewPointTemp      5344 non-null   float64       \n",
      " 9   AirHumidity       5344 non-null   float64       \n",
      " 10  EffectiveTemp     5343 non-null   float64       \n",
      " 11  EffectiveSunTemp  5343 non-null   float64       \n",
      " 12  Comfortness       5343 non-null   object        \n",
      " 13  SeaAtmPressure    5344 non-null   float64       \n",
      " 14  AtmPressure       5345 non-null   float64       \n",
      " 15  Tmin              1338 non-null   float64       \n",
      " 16  Tmax              669 non-null    float64       \n",
      " 17  Rainfall          1223 non-null   float64       \n",
      " 18  Rainfall24        669 non-null    float64       \n",
      " 19  Snow              236 non-null    float64       \n",
      "dtypes: datetime64[ns](1), float64(14), int64(1), object(4)\n",
      "memory usage: 835.3+ KB\n"
     ]
    }
   ],
   "source": [
    "df.info()"
   ]
  },
  {
   "cell_type": "markdown",
   "id": "4fc0ba53",
   "metadata": {},
   "source": [
    "***\n",
    "Датасет содержит 20 столбцов, информация о погоде идет с разбивкой по 3 часа в сутки.\n",
    "Проверим налицие пропусков:"
   ]
  },
  {
   "cell_type": "code",
   "execution_count": 5,
   "id": "26cb0afd",
   "metadata": {},
   "outputs": [
    {
     "data": {
      "image/png": "[encoded data removed]",
      "text/plain": [
       "<Figure size 432x288 with 2 Axes>"
      ]
     },
     "metadata": {
      "needs_background": "light"
     },
     "output_type": "display_data"
    }
   ],
   "source": [
    "colours = ['#993366', '#FFFF00']\n",
    "sns.heatmap(df.isnull(), cmap=sns.color_palette(colours))\n",
    "# Decorations\n",
    "plt.title('Матрица пропущенных значений набора данных', fontsize=14)\n",
    "plt.xticks(fontsize=12)\n",
    "plt.yticks(fontsize=12)\n",
    "plt.figtext(0.5, -0.4, \"Рисунок 1. - Матрица пропущенных значений набора данных\", fontsize = 15)\n",
    "plt.show()"
   ]
  },
  {
   "cell_type": "markdown",
   "id": "273f487d",
   "metadata": {},
   "source": [
    "Видим, что есть пропуски в столбцах с данными о видимости, атмосферными явлениями, много пропусков в столбцах минимальной и максимальной температур, в данных о осадках (логично, ведь осадки есть не всегда), кумулятивном столбце о осадках за сутки и в информации о снежном покрове (позже посмотрим, в какие месяц за последние два года был снег)."
   ]
  },
  {
   "cell_type": "markdown",
   "id": "17c6e0fd",
   "metadata": {},
   "source": [
    "***\n",
    "Для наших целей такой количество столбцов избыточно. Кроме того, чтобы соотнести количество ДТП с погодой, необходимо, чтобы информация о погоде была посуточно (в наборе данных о ДТП именно такая разбивка). <br>\n",
    "Поэтому группируем данные по дате, берем медианы значений скорости ветра, видимости, температуры, влажности, атмосферного давления за сутки. Данные за сутки о дожде и высоте снежного покрова суммируем."
   ]
  },
  {
   "cell_type": "code",
   "execution_count": 6,
   "id": "914016a4",
   "metadata": {},
   "outputs": [],
   "source": [
    "agg_func_math = {\n",
    "    'WindSpeed': ['median'], 'Visibility': ['median'], 'Temp': ['median'],\n",
    "    'AirHumidity': ['median'], 'AtmPressure': ['median'], \n",
    "    'Rainfall24': ['sum'], 'Snow': ['sum'] \n",
    "}"
   ]
  },
  {
   "cell_type": "code",
   "execution_count": 7,
   "id": "92b98ed2",
   "metadata": {},
   "outputs": [
    {
     "data": {
      "text/html": [
       "<div>\n",
       "<style scoped>\n",
       "    .dataframe tbody tr th:only-of-type {\n",
       "        vertical-align: middle;\n",
       "    }\n",
       "\n",
       "    .dataframe tbody tr th {\n",
       "        vertical-align: top;\n",
       "    }\n",
       "\n",
       "    .dataframe thead tr th {\n",
       "        text-align: left;\n",
       "    }\n",
       "\n",
       "    .dataframe thead tr:last-of-type th {\n",
       "        text-align: right;\n",
       "    }\n",
       "</style>\n",
       "<table border=\"1\" class=\"dataframe\">\n",
       "  <thead>\n",
       "    <tr>\n",
       "      <th></th>\n",
       "      <th>WindSpeed</th>\n",
       "      <th>Visibility</th>\n",
       "      <th>Temp</th>\n",
       "      <th>AirHumidity</th>\n",
       "      <th>AtmPressure</th>\n",
       "      <th>Rainfall24</th>\n",
       "      <th>Snow</th>\n",
       "    </tr>\n",
       "    <tr>\n",
       "      <th></th>\n",
       "      <th>median</th>\n",
       "      <th>median</th>\n",
       "      <th>median</th>\n",
       "      <th>median</th>\n",
       "      <th>median</th>\n",
       "      <th>sum</th>\n",
       "      <th>sum</th>\n",
       "    </tr>\n",
       "    <tr>\n",
       "      <th>Date</th>\n",
       "      <th></th>\n",
       "      <th></th>\n",
       "      <th></th>\n",
       "      <th></th>\n",
       "      <th></th>\n",
       "      <th></th>\n",
       "      <th></th>\n",
       "    </tr>\n",
       "  </thead>\n",
       "  <tbody>\n",
       "    <tr>\n",
       "      <th>2021-01-01</th>\n",
       "      <td>2.0</td>\n",
       "      <td>4000.0</td>\n",
       "      <td>-0.20</td>\n",
       "      <td>96.0</td>\n",
       "      <td>998.20</td>\n",
       "      <td>10.0</td>\n",
       "      <td>11.0</td>\n",
       "    </tr>\n",
       "    <tr>\n",
       "      <th>2021-01-02</th>\n",
       "      <td>1.0</td>\n",
       "      <td>4000.0</td>\n",
       "      <td>-0.10</td>\n",
       "      <td>96.0</td>\n",
       "      <td>997.05</td>\n",
       "      <td>11.0</td>\n",
       "      <td>12.0</td>\n",
       "    </tr>\n",
       "    <tr>\n",
       "      <th>2021-01-03</th>\n",
       "      <td>0.5</td>\n",
       "      <td>10000.0</td>\n",
       "      <td>0.55</td>\n",
       "      <td>90.5</td>\n",
       "      <td>1008.90</td>\n",
       "      <td>0.9</td>\n",
       "      <td>16.0</td>\n",
       "    </tr>\n",
       "    <tr>\n",
       "      <th>2021-01-04</th>\n",
       "      <td>1.5</td>\n",
       "      <td>4000.0</td>\n",
       "      <td>-0.90</td>\n",
       "      <td>94.0</td>\n",
       "      <td>1008.85</td>\n",
       "      <td>4.4</td>\n",
       "      <td>15.0</td>\n",
       "    </tr>\n",
       "    <tr>\n",
       "      <th>2021-01-05</th>\n",
       "      <td>0.5</td>\n",
       "      <td>4000.0</td>\n",
       "      <td>-1.30</td>\n",
       "      <td>94.0</td>\n",
       "      <td>1009.10</td>\n",
       "      <td>0.8</td>\n",
       "      <td>18.0</td>\n",
       "    </tr>\n",
       "    <tr>\n",
       "      <th>2021-01-06</th>\n",
       "      <td>0.5</td>\n",
       "      <td>4000.0</td>\n",
       "      <td>-3.55</td>\n",
       "      <td>88.0</td>\n",
       "      <td>1004.50</td>\n",
       "      <td>1.4</td>\n",
       "      <td>17.0</td>\n",
       "    </tr>\n",
       "    <tr>\n",
       "      <th>2021-01-07</th>\n",
       "      <td>0.0</td>\n",
       "      <td>4000.0</td>\n",
       "      <td>-4.90</td>\n",
       "      <td>89.0</td>\n",
       "      <td>1000.65</td>\n",
       "      <td>9.3</td>\n",
       "      <td>21.0</td>\n",
       "    </tr>\n",
       "    <tr>\n",
       "      <th>2021-01-08</th>\n",
       "      <td>1.0</td>\n",
       "      <td>4000.0</td>\n",
       "      <td>-4.35</td>\n",
       "      <td>91.0</td>\n",
       "      <td>994.15</td>\n",
       "      <td>0.6</td>\n",
       "      <td>21.0</td>\n",
       "    </tr>\n",
       "    <tr>\n",
       "      <th>2021-01-09</th>\n",
       "      <td>1.5</td>\n",
       "      <td>4000.0</td>\n",
       "      <td>-5.95</td>\n",
       "      <td>89.5</td>\n",
       "      <td>994.00</td>\n",
       "      <td>2.3</td>\n",
       "      <td>21.0</td>\n",
       "    </tr>\n",
       "    <tr>\n",
       "      <th>2021-01-10</th>\n",
       "      <td>1.5</td>\n",
       "      <td>4000.0</td>\n",
       "      <td>-8.40</td>\n",
       "      <td>87.0</td>\n",
       "      <td>995.95</td>\n",
       "      <td>2.9</td>\n",
       "      <td>22.0</td>\n",
       "    </tr>\n",
       "  </tbody>\n",
       "</table>\n",
       "</div>"
      ],
      "text/plain": [
       "           WindSpeed Visibility   Temp AirHumidity AtmPressure Rainfall24  \\\n",
       "              median     median median      median      median        sum   \n",
       "Date                                                                        \n",
       "2021-01-01       2.0     4000.0  -0.20        96.0      998.20       10.0   \n",
       "2021-01-02       1.0     4000.0  -0.10        96.0      997.05       11.0   \n",
       "2021-01-03       0.5    10000.0   0.55        90.5     1008.90        0.9   \n",
       "2021-01-04       1.5     4000.0  -0.90        94.0     1008.85        4.4   \n",
       "2021-01-05       0.5     4000.0  -1.30        94.0     1009.10        0.8   \n",
       "2021-01-06       0.5     4000.0  -3.55        88.0     1004.50        1.4   \n",
       "2021-01-07       0.0     4000.0  -4.90        89.0     1000.65        9.3   \n",
       "2021-01-08       1.0     4000.0  -4.35        91.0      994.15        0.6   \n",
       "2021-01-09       1.5     4000.0  -5.95        89.5      994.00        2.3   \n",
       "2021-01-10       1.5     4000.0  -8.40        87.0      995.95        2.9   \n",
       "\n",
       "            Snow  \n",
       "             sum  \n",
       "Date              \n",
       "2021-01-01  11.0  \n",
       "2021-01-02  12.0  \n",
       "2021-01-03  16.0  \n",
       "2021-01-04  15.0  \n",
       "2021-01-05  18.0  \n",
       "2021-01-06  17.0  \n",
       "2021-01-07  21.0  \n",
       "2021-01-08  21.0  \n",
       "2021-01-09  21.0  \n",
       "2021-01-10  22.0  "
      ]
     },
     "execution_count": 7,
     "metadata": {},
     "output_type": "execute_result"
    }
   ],
   "source": [
    "data_grp = df.groupby('Date').agg(agg_func_math).round(2)\n",
    "data_grp.head(10)"
   ]
  },
  {
   "cell_type": "markdown",
   "id": "baee1e78",
   "metadata": {},
   "source": [
    "Поскольку агрегирование таблицы делали по дате, столбец стал индексами. Для дальнейшей работы нам необходимо перевести его в признаки, а индексы обнулить (переиндексировать):"
   ]
  },
  {
   "cell_type": "code",
   "execution_count": 8,
   "id": "0073216b",
   "metadata": {},
   "outputs": [
    {
     "name": "stdout",
     "output_type": "stream",
     "text": [
      "<class 'pandas.core.frame.DataFrame'>\n",
      "DatetimeIndex: 669 entries, 2021-01-01 to 2022-10-31\n",
      "Data columns (total 8 columns):\n",
      " #   Column                 Non-Null Count  Dtype         \n",
      "---  ------                 --------------  -----         \n",
      " 0   (WindSpeed, median)    669 non-null    float64       \n",
      " 1   (Visibility, median)   669 non-null    float64       \n",
      " 2   (Temp, median)         669 non-null    float64       \n",
      " 3   (AirHumidity, median)  669 non-null    float64       \n",
      " 4   (AtmPressure, median)  669 non-null    float64       \n",
      " 5   (Rainfall24, sum)      669 non-null    float64       \n",
      " 6   (Snow, sum)            669 non-null    float64       \n",
      " 7   (Date, )               669 non-null    datetime64[ns]\n",
      "dtypes: datetime64[ns](1), float64(7)\n",
      "memory usage: 47.0 KB\n"
     ]
    }
   ],
   "source": [
    "data_grp['Date']=data_grp.index\n",
    "data_grp.info()"
   ]
  },
  {
   "cell_type": "code",
   "execution_count": 9,
   "id": "11ea2095",
   "metadata": {},
   "outputs": [],
   "source": [
    "df = data_grp.reset_index(drop=True)"
   ]
  },
  {
   "cell_type": "code",
   "execution_count": 10,
   "id": "ee0b449b",
   "metadata": {},
   "outputs": [],
   "source": [
    "# Сделаем удобные названия столбцов:\n",
    "\n",
    "df.columns = ['WindSpeed', 'Visibility', 'Temp', \n",
    "              'AirHumidity', 'AtmPressure', 'Rainfall24',\n",
    "             'Snow', 'Date']"
   ]
  },
  {
   "cell_type": "code",
   "execution_count": 11,
   "id": "8026d4d8",
   "metadata": {},
   "outputs": [],
   "source": [
    "#Поменяем столбцы местами, передвинув дату в начало\n",
    "\n",
    "df = df.reindex(columns=['Date', 'WindSpeed', 'Visibility', \n",
    "                         'Temp', 'AirHumidity', 'AtmPressure', \n",
    "                         'Rainfall24', 'Snow'])"
   ]
  },
  {
   "cell_type": "code",
   "execution_count": 12,
   "id": "9182a1da",
   "metadata": {},
   "outputs": [
    {
     "data": {
      "text/html": [
       "<div>\n",
       "<style scoped>\n",
       "    .dataframe tbody tr th:only-of-type {\n",
       "        vertical-align: middle;\n",
       "    }\n",
       "\n",
       "    .dataframe tbody tr th {\n",
       "        vertical-align: top;\n",
       "    }\n",
       "\n",
       "    .dataframe thead th {\n",
       "        text-align: right;\n",
       "    }\n",
       "</style>\n",
       "<table border=\"1\" class=\"dataframe\">\n",
       "  <thead>\n",
       "    <tr style=\"text-align: right;\">\n",
       "      <th></th>\n",
       "      <th>Date</th>\n",
       "      <th>WindSpeed</th>\n",
       "      <th>Visibility</th>\n",
       "      <th>Temp</th>\n",
       "      <th>AirHumidity</th>\n",
       "      <th>AtmPressure</th>\n",
       "      <th>Rainfall24</th>\n",
       "      <th>Snow</th>\n",
       "    </tr>\n",
       "  </thead>\n",
       "  <tbody>\n",
       "    <tr>\n",
       "      <th>0</th>\n",
       "      <td>2021-01-01</td>\n",
       "      <td>2.0</td>\n",
       "      <td>4000.0</td>\n",
       "      <td>-0.20</td>\n",
       "      <td>96.0</td>\n",
       "      <td>998.20</td>\n",
       "      <td>10.0</td>\n",
       "      <td>11.0</td>\n",
       "    </tr>\n",
       "    <tr>\n",
       "      <th>1</th>\n",
       "      <td>2021-01-02</td>\n",
       "      <td>1.0</td>\n",
       "      <td>4000.0</td>\n",
       "      <td>-0.10</td>\n",
       "      <td>96.0</td>\n",
       "      <td>997.05</td>\n",
       "      <td>11.0</td>\n",
       "      <td>12.0</td>\n",
       "    </tr>\n",
       "    <tr>\n",
       "      <th>2</th>\n",
       "      <td>2021-01-03</td>\n",
       "      <td>0.5</td>\n",
       "      <td>10000.0</td>\n",
       "      <td>0.55</td>\n",
       "      <td>90.5</td>\n",
       "      <td>1008.90</td>\n",
       "      <td>0.9</td>\n",
       "      <td>16.0</td>\n",
       "    </tr>\n",
       "    <tr>\n",
       "      <th>3</th>\n",
       "      <td>2021-01-04</td>\n",
       "      <td>1.5</td>\n",
       "      <td>4000.0</td>\n",
       "      <td>-0.90</td>\n",
       "      <td>94.0</td>\n",
       "      <td>1008.85</td>\n",
       "      <td>4.4</td>\n",
       "      <td>15.0</td>\n",
       "    </tr>\n",
       "    <tr>\n",
       "      <th>4</th>\n",
       "      <td>2021-01-05</td>\n",
       "      <td>0.5</td>\n",
       "      <td>4000.0</td>\n",
       "      <td>-1.30</td>\n",
       "      <td>94.0</td>\n",
       "      <td>1009.10</td>\n",
       "      <td>0.8</td>\n",
       "      <td>18.0</td>\n",
       "    </tr>\n",
       "    <tr>\n",
       "      <th>...</th>\n",
       "      <td>...</td>\n",
       "      <td>...</td>\n",
       "      <td>...</td>\n",
       "      <td>...</td>\n",
       "      <td>...</td>\n",
       "      <td>...</td>\n",
       "      <td>...</td>\n",
       "      <td>...</td>\n",
       "    </tr>\n",
       "    <tr>\n",
       "      <th>664</th>\n",
       "      <td>2022-10-27</td>\n",
       "      <td>0.5</td>\n",
       "      <td>19500.0</td>\n",
       "      <td>2.70</td>\n",
       "      <td>77.5</td>\n",
       "      <td>1002.90</td>\n",
       "      <td>0.0</td>\n",
       "      <td>0.0</td>\n",
       "    </tr>\n",
       "    <tr>\n",
       "      <th>665</th>\n",
       "      <td>2022-10-28</td>\n",
       "      <td>0.0</td>\n",
       "      <td>10000.0</td>\n",
       "      <td>7.75</td>\n",
       "      <td>90.5</td>\n",
       "      <td>1003.25</td>\n",
       "      <td>1.4</td>\n",
       "      <td>0.0</td>\n",
       "    </tr>\n",
       "    <tr>\n",
       "      <th>666</th>\n",
       "      <td>2022-10-29</td>\n",
       "      <td>1.0</td>\n",
       "      <td>19000.0</td>\n",
       "      <td>9.60</td>\n",
       "      <td>92.0</td>\n",
       "      <td>992.10</td>\n",
       "      <td>2.8</td>\n",
       "      <td>0.0</td>\n",
       "    </tr>\n",
       "    <tr>\n",
       "      <th>667</th>\n",
       "      <td>2022-10-30</td>\n",
       "      <td>2.0</td>\n",
       "      <td>20000.0</td>\n",
       "      <td>6.95</td>\n",
       "      <td>77.0</td>\n",
       "      <td>980.00</td>\n",
       "      <td>8.0</td>\n",
       "      <td>0.0</td>\n",
       "    </tr>\n",
       "    <tr>\n",
       "      <th>668</th>\n",
       "      <td>2022-10-31</td>\n",
       "      <td>2.0</td>\n",
       "      <td>19500.0</td>\n",
       "      <td>1.55</td>\n",
       "      <td>80.5</td>\n",
       "      <td>987.65</td>\n",
       "      <td>2.0</td>\n",
       "      <td>1.0</td>\n",
       "    </tr>\n",
       "  </tbody>\n",
       "</table>\n",
       "<p>669 rows × 8 columns</p>\n",
       "</div>"
      ],
      "text/plain": [
       "          Date  WindSpeed  Visibility  Temp  AirHumidity  AtmPressure  \\\n",
       "0   2021-01-01        2.0      4000.0 -0.20         96.0       998.20   \n",
       "1   2021-01-02        1.0      4000.0 -0.10         96.0       997.05   \n",
       "2   2021-01-03        0.5     10000.0  0.55         90.5      1008.90   \n",
       "3   2021-01-04        1.5      4000.0 -0.90         94.0      1008.85   \n",
       "4   2021-01-05        0.5      4000.0 -1.30         94.0      1009.10   \n",
       "..         ...        ...         ...   ...          ...          ...   \n",
       "664 2022-10-27        0.5     19500.0  2.70         77.5      1002.90   \n",
       "665 2022-10-28        0.0     10000.0  7.75         90.5      1003.25   \n",
       "666 2022-10-29        1.0     19000.0  9.60         92.0       992.10   \n",
       "667 2022-10-30        2.0     20000.0  6.95         77.0       980.00   \n",
       "668 2022-10-31        2.0     19500.0  1.55         80.5       987.65   \n",
       "\n",
       "     Rainfall24  Snow  \n",
       "0          10.0  11.0  \n",
       "1          11.0  12.0  \n",
       "2           0.9  16.0  \n",
       "3           4.4  15.0  \n",
       "4           0.8  18.0  \n",
       "..          ...   ...  \n",
       "664         0.0   0.0  \n",
       "665         1.4   0.0  \n",
       "666         2.8   0.0  \n",
       "667         8.0   0.0  \n",
       "668         2.0   1.0  \n",
       "\n",
       "[669 rows x 8 columns]"
      ]
     },
     "execution_count": 12,
     "metadata": {},
     "output_type": "execute_result"
    }
   ],
   "source": [
    "df"
   ]
  },
  {
   "cell_type": "markdown",
   "id": "0d7265bb",
   "metadata": {},
   "source": [
    "### Загрузим второй датасет с данными о количестве ДТП по сообщениям пользователей яндекс-навигатора"
   ]
  },
  {
   "cell_type": "code",
   "execution_count": 13,
   "id": "b8f676c6",
   "metadata": {},
   "outputs": [
    {
     "data": {
      "text/html": [
       "<div>\n",
       "<style scoped>\n",
       "    .dataframe tbody tr th:only-of-type {\n",
       "        vertical-align: middle;\n",
       "    }\n",
       "\n",
       "    .dataframe tbody tr th {\n",
       "        vertical-align: top;\n",
       "    }\n",
       "\n",
       "    .dataframe thead th {\n",
       "        text-align: right;\n",
       "    }\n",
       "</style>\n",
       "<table border=\"1\" class=\"dataframe\">\n",
       "  <thead>\n",
       "    <tr style=\"text-align: right;\">\n",
       "      <th></th>\n",
       "      <th>Date</th>\n",
       "      <th>RoadAccs</th>\n",
       "    </tr>\n",
       "  </thead>\n",
       "  <tbody>\n",
       "    <tr>\n",
       "      <th>0</th>\n",
       "      <td>2021-05-24 00:00:00</td>\n",
       "      <td>985</td>\n",
       "    </tr>\n",
       "    <tr>\n",
       "      <th>1</th>\n",
       "      <td>2021-05-25 00:00:00</td>\n",
       "      <td>1197</td>\n",
       "    </tr>\n",
       "    <tr>\n",
       "      <th>2</th>\n",
       "      <td>2021-05-26 00:00:00</td>\n",
       "      <td>1254</td>\n",
       "    </tr>\n",
       "    <tr>\n",
       "      <th>3</th>\n",
       "      <td>2021-05-27 00:00:00</td>\n",
       "      <td>1268</td>\n",
       "    </tr>\n",
       "    <tr>\n",
       "      <th>4</th>\n",
       "      <td>2021-05-28 00:00:00</td>\n",
       "      <td>1176</td>\n",
       "    </tr>\n",
       "    <tr>\n",
       "      <th>...</th>\n",
       "      <td>...</td>\n",
       "      <td>...</td>\n",
       "    </tr>\n",
       "    <tr>\n",
       "      <th>521</th>\n",
       "      <td>2022-10-27 00:00:00</td>\n",
       "      <td>903</td>\n",
       "    </tr>\n",
       "    <tr>\n",
       "      <th>522</th>\n",
       "      <td>2022-10-28 00:00:00</td>\n",
       "      <td>1093</td>\n",
       "    </tr>\n",
       "    <tr>\n",
       "      <th>523</th>\n",
       "      <td>2022-10-29 00:00:00</td>\n",
       "      <td>693</td>\n",
       "    </tr>\n",
       "    <tr>\n",
       "      <th>524</th>\n",
       "      <td>2022-10-30 00:00:00</td>\n",
       "      <td>474</td>\n",
       "    </tr>\n",
       "    <tr>\n",
       "      <th>525</th>\n",
       "      <td>2022-10-31 00:00:00</td>\n",
       "      <td>9</td>\n",
       "    </tr>\n",
       "  </tbody>\n",
       "</table>\n",
       "<p>526 rows × 2 columns</p>\n",
       "</div>"
      ],
      "text/plain": [
       "                    Date  RoadAccs\n",
       "0    2021-05-24 00:00:00       985\n",
       "1    2021-05-25 00:00:00      1197\n",
       "2    2021-05-26 00:00:00      1254\n",
       "3    2021-05-27 00:00:00      1268\n",
       "4    2021-05-28 00:00:00      1176\n",
       "..                   ...       ...\n",
       "521  2022-10-27 00:00:00       903\n",
       "522  2022-10-28 00:00:00      1093\n",
       "523  2022-10-29 00:00:00       693\n",
       "524  2022-10-30 00:00:00       474\n",
       "525  2022-10-31 00:00:00         9\n",
       "\n",
       "[526 rows x 2 columns]"
      ]
     },
     "execution_count": 13,
     "metadata": {},
     "output_type": "execute_result"
    }
   ],
   "source": [
    "df_ra = pd.read_csv('data/moscow_road_accidents.csv', \n",
    "                    parse_dates=True, sep=\";\")\n",
    "df_ra.columns = ['Date', 'RoadAccs']\n",
    "df_ra"
   ]
  },
  {
   "cell_type": "markdown",
   "id": "8399329a",
   "metadata": {},
   "source": [
    "Видим, что данные состоят из 526 строк, начинаются 24 мая 2021 (в DataLens есть возможность собрать данные по текущий день) "
   ]
  },
  {
   "cell_type": "markdown",
   "id": "3c181eac",
   "metadata": {},
   "source": [
    "Проверим формат данных:"
   ]
  },
  {
   "cell_type": "code",
   "execution_count": 14,
   "id": "300bd57a",
   "metadata": {},
   "outputs": [
    {
     "name": "stdout",
     "output_type": "stream",
     "text": [
      "<class 'pandas.core.frame.DataFrame'>\n",
      "RangeIndex: 526 entries, 0 to 525\n",
      "Data columns (total 2 columns):\n",
      " #   Column    Non-Null Count  Dtype \n",
      "---  ------    --------------  ----- \n",
      " 0   Date      526 non-null    object\n",
      " 1   RoadAccs  526 non-null    int64 \n",
      "dtypes: int64(1), object(1)\n",
      "memory usage: 8.3+ KB\n"
     ]
    }
   ],
   "source": [
    "df_ra.info()"
   ]
  },
  {
   "cell_type": "markdown",
   "id": "a40376fd",
   "metadata": {},
   "source": [
    "Переведем данные в столбце Date в формат datetime:"
   ]
  },
  {
   "cell_type": "code",
   "execution_count": 15,
   "id": "c0323b32",
   "metadata": {},
   "outputs": [
    {
     "data": {
      "text/html": [
       "<div>\n",
       "<style scoped>\n",
       "    .dataframe tbody tr th:only-of-type {\n",
       "        vertical-align: middle;\n",
       "    }\n",
       "\n",
       "    .dataframe tbody tr th {\n",
       "        vertical-align: top;\n",
       "    }\n",
       "\n",
       "    .dataframe thead th {\n",
       "        text-align: right;\n",
       "    }\n",
       "</style>\n",
       "<table border=\"1\" class=\"dataframe\">\n",
       "  <thead>\n",
       "    <tr style=\"text-align: right;\">\n",
       "      <th></th>\n",
       "      <th>Date</th>\n",
       "      <th>RoadAccs</th>\n",
       "    </tr>\n",
       "  </thead>\n",
       "  <tbody>\n",
       "    <tr>\n",
       "      <th>0</th>\n",
       "      <td>2021-05-24</td>\n",
       "      <td>985</td>\n",
       "    </tr>\n",
       "    <tr>\n",
       "      <th>1</th>\n",
       "      <td>2021-05-25</td>\n",
       "      <td>1197</td>\n",
       "    </tr>\n",
       "    <tr>\n",
       "      <th>2</th>\n",
       "      <td>2021-05-26</td>\n",
       "      <td>1254</td>\n",
       "    </tr>\n",
       "    <tr>\n",
       "      <th>3</th>\n",
       "      <td>2021-05-27</td>\n",
       "      <td>1268</td>\n",
       "    </tr>\n",
       "    <tr>\n",
       "      <th>4</th>\n",
       "      <td>2021-05-28</td>\n",
       "      <td>1176</td>\n",
       "    </tr>\n",
       "    <tr>\n",
       "      <th>...</th>\n",
       "      <td>...</td>\n",
       "      <td>...</td>\n",
       "    </tr>\n",
       "    <tr>\n",
       "      <th>521</th>\n",
       "      <td>2022-10-27</td>\n",
       "      <td>903</td>\n",
       "    </tr>\n",
       "    <tr>\n",
       "      <th>522</th>\n",
       "      <td>2022-10-28</td>\n",
       "      <td>1093</td>\n",
       "    </tr>\n",
       "    <tr>\n",
       "      <th>523</th>\n",
       "      <td>2022-10-29</td>\n",
       "      <td>693</td>\n",
       "    </tr>\n",
       "    <tr>\n",
       "      <th>524</th>\n",
       "      <td>2022-10-30</td>\n",
       "      <td>474</td>\n",
       "    </tr>\n",
       "    <tr>\n",
       "      <th>525</th>\n",
       "      <td>2022-10-31</td>\n",
       "      <td>9</td>\n",
       "    </tr>\n",
       "  </tbody>\n",
       "</table>\n",
       "<p>526 rows × 2 columns</p>\n",
       "</div>"
      ],
      "text/plain": [
       "          Date  RoadAccs\n",
       "0   2021-05-24       985\n",
       "1   2021-05-25      1197\n",
       "2   2021-05-26      1254\n",
       "3   2021-05-27      1268\n",
       "4   2021-05-28      1176\n",
       "..         ...       ...\n",
       "521 2022-10-27       903\n",
       "522 2022-10-28      1093\n",
       "523 2022-10-29       693\n",
       "524 2022-10-30       474\n",
       "525 2022-10-31         9\n",
       "\n",
       "[526 rows x 2 columns]"
      ]
     },
     "execution_count": 15,
     "metadata": {},
     "output_type": "execute_result"
    }
   ],
   "source": [
    "df_ra['Date'] = pd.to_datetime(df_ra['Date'])\n",
    "df_ra"
   ]
  },
  {
   "cell_type": "code",
   "execution_count": 16,
   "id": "4a0885ad",
   "metadata": {},
   "outputs": [
    {
     "name": "stdout",
     "output_type": "stream",
     "text": [
      "<class 'pandas.core.frame.DataFrame'>\n",
      "RangeIndex: 526 entries, 0 to 525\n",
      "Data columns (total 2 columns):\n",
      " #   Column    Non-Null Count  Dtype         \n",
      "---  ------    --------------  -----         \n",
      " 0   Date      526 non-null    datetime64[ns]\n",
      " 1   RoadAccs  526 non-null    int64         \n",
      "dtypes: datetime64[ns](1), int64(1)\n",
      "memory usage: 8.3 KB\n"
     ]
    }
   ],
   "source": [
    "# Убедимся, что формат изменился:\n",
    "df_ra.info()"
   ]
  },
  {
   "cell_type": "markdown",
   "id": "a4ffb134",
   "metadata": {},
   "source": [
    "Проверим, какая погода была в день начала обучения на курсе:"
   ]
  },
  {
   "cell_type": "code",
   "execution_count": 17,
   "id": "7b8ac49b",
   "metadata": {},
   "outputs": [
    {
     "data": {
      "text/html": [
       "<div>\n",
       "<style scoped>\n",
       "    .dataframe tbody tr th:only-of-type {\n",
       "        vertical-align: middle;\n",
       "    }\n",
       "\n",
       "    .dataframe tbody tr th {\n",
       "        vertical-align: top;\n",
       "    }\n",
       "\n",
       "    .dataframe thead th {\n",
       "        text-align: right;\n",
       "    }\n",
       "</style>\n",
       "<table border=\"1\" class=\"dataframe\">\n",
       "  <thead>\n",
       "    <tr style=\"text-align: right;\">\n",
       "      <th></th>\n",
       "      <th>Date</th>\n",
       "      <th>WindSpeed</th>\n",
       "      <th>Visibility</th>\n",
       "      <th>Temp</th>\n",
       "      <th>AirHumidity</th>\n",
       "      <th>AtmPressure</th>\n",
       "      <th>Rainfall24</th>\n",
       "      <th>Snow</th>\n",
       "    </tr>\n",
       "  </thead>\n",
       "  <tbody>\n",
       "    <tr>\n",
       "      <th>613</th>\n",
       "      <td>2022-09-06</td>\n",
       "      <td>2.0</td>\n",
       "      <td>20000.0</td>\n",
       "      <td>8.6</td>\n",
       "      <td>76.5</td>\n",
       "      <td>1000.15</td>\n",
       "      <td>1.0</td>\n",
       "      <td>0.0</td>\n",
       "    </tr>\n",
       "  </tbody>\n",
       "</table>\n",
       "</div>"
      ],
      "text/plain": [
       "          Date  WindSpeed  Visibility  Temp  AirHumidity  AtmPressure  \\\n",
       "613 2022-09-06        2.0     20000.0   8.6         76.5      1000.15   \n",
       "\n",
       "     Rainfall24  Snow  \n",
       "613         1.0   0.0  "
      ]
     },
     "execution_count": 17,
     "metadata": {},
     "output_type": "execute_result"
    }
   ],
   "source": [
    "df.loc[df['Date'] == '2022-09-06']"
   ]
  },
  {
   "cell_type": "markdown",
   "id": "43721643",
   "metadata": {},
   "source": [
    "Далее объединим два набора данных в один по столбцу с датой:"
   ]
  },
  {
   "cell_type": "code",
   "execution_count": 18,
   "id": "bfc2811c",
   "metadata": {},
   "outputs": [
    {
     "data": {
      "text/html": [
       "<div>\n",
       "<style scoped>\n",
       "    .dataframe tbody tr th:only-of-type {\n",
       "        vertical-align: middle;\n",
       "    }\n",
       "\n",
       "    .dataframe tbody tr th {\n",
       "        vertical-align: top;\n",
       "    }\n",
       "\n",
       "    .dataframe thead th {\n",
       "        text-align: right;\n",
       "    }\n",
       "</style>\n",
       "<table border=\"1\" class=\"dataframe\">\n",
       "  <thead>\n",
       "    <tr style=\"text-align: right;\">\n",
       "      <th></th>\n",
       "      <th>Date</th>\n",
       "      <th>WindSpeed</th>\n",
       "      <th>Visibility</th>\n",
       "      <th>Temp</th>\n",
       "      <th>AirHumidity</th>\n",
       "      <th>AtmPressure</th>\n",
       "      <th>Rainfall24</th>\n",
       "      <th>Snow</th>\n",
       "      <th>RoadAccs</th>\n",
       "    </tr>\n",
       "  </thead>\n",
       "  <tbody>\n",
       "    <tr>\n",
       "      <th>0</th>\n",
       "      <td>2021-01-01</td>\n",
       "      <td>2.0</td>\n",
       "      <td>4000.0</td>\n",
       "      <td>-0.20</td>\n",
       "      <td>96.0</td>\n",
       "      <td>998.20</td>\n",
       "      <td>10.0</td>\n",
       "      <td>11.0</td>\n",
       "      <td>NaN</td>\n",
       "    </tr>\n",
       "    <tr>\n",
       "      <th>1</th>\n",
       "      <td>2021-01-02</td>\n",
       "      <td>1.0</td>\n",
       "      <td>4000.0</td>\n",
       "      <td>-0.10</td>\n",
       "      <td>96.0</td>\n",
       "      <td>997.05</td>\n",
       "      <td>11.0</td>\n",
       "      <td>12.0</td>\n",
       "      <td>NaN</td>\n",
       "    </tr>\n",
       "    <tr>\n",
       "      <th>2</th>\n",
       "      <td>2021-01-03</td>\n",
       "      <td>0.5</td>\n",
       "      <td>10000.0</td>\n",
       "      <td>0.55</td>\n",
       "      <td>90.5</td>\n",
       "      <td>1008.90</td>\n",
       "      <td>0.9</td>\n",
       "      <td>16.0</td>\n",
       "      <td>NaN</td>\n",
       "    </tr>\n",
       "    <tr>\n",
       "      <th>3</th>\n",
       "      <td>2021-01-04</td>\n",
       "      <td>1.5</td>\n",
       "      <td>4000.0</td>\n",
       "      <td>-0.90</td>\n",
       "      <td>94.0</td>\n",
       "      <td>1008.85</td>\n",
       "      <td>4.4</td>\n",
       "      <td>15.0</td>\n",
       "      <td>NaN</td>\n",
       "    </tr>\n",
       "    <tr>\n",
       "      <th>4</th>\n",
       "      <td>2021-01-05</td>\n",
       "      <td>0.5</td>\n",
       "      <td>4000.0</td>\n",
       "      <td>-1.30</td>\n",
       "      <td>94.0</td>\n",
       "      <td>1009.10</td>\n",
       "      <td>0.8</td>\n",
       "      <td>18.0</td>\n",
       "      <td>NaN</td>\n",
       "    </tr>\n",
       "    <tr>\n",
       "      <th>...</th>\n",
       "      <td>...</td>\n",
       "      <td>...</td>\n",
       "      <td>...</td>\n",
       "      <td>...</td>\n",
       "      <td>...</td>\n",
       "      <td>...</td>\n",
       "      <td>...</td>\n",
       "      <td>...</td>\n",
       "      <td>...</td>\n",
       "    </tr>\n",
       "    <tr>\n",
       "      <th>664</th>\n",
       "      <td>2022-10-27</td>\n",
       "      <td>0.5</td>\n",
       "      <td>19500.0</td>\n",
       "      <td>2.70</td>\n",
       "      <td>77.5</td>\n",
       "      <td>1002.90</td>\n",
       "      <td>0.0</td>\n",
       "      <td>0.0</td>\n",
       "      <td>903.0</td>\n",
       "    </tr>\n",
       "    <tr>\n",
       "      <th>665</th>\n",
       "      <td>2022-10-28</td>\n",
       "      <td>0.0</td>\n",
       "      <td>10000.0</td>\n",
       "      <td>7.75</td>\n",
       "      <td>90.5</td>\n",
       "      <td>1003.25</td>\n",
       "      <td>1.4</td>\n",
       "      <td>0.0</td>\n",
       "      <td>1093.0</td>\n",
       "    </tr>\n",
       "    <tr>\n",
       "      <th>666</th>\n",
       "      <td>2022-10-29</td>\n",
       "      <td>1.0</td>\n",
       "      <td>19000.0</td>\n",
       "      <td>9.60</td>\n",
       "      <td>92.0</td>\n",
       "      <td>992.10</td>\n",
       "      <td>2.8</td>\n",
       "      <td>0.0</td>\n",
       "      <td>693.0</td>\n",
       "    </tr>\n",
       "    <tr>\n",
       "      <th>667</th>\n",
       "      <td>2022-10-30</td>\n",
       "      <td>2.0</td>\n",
       "      <td>20000.0</td>\n",
       "      <td>6.95</td>\n",
       "      <td>77.0</td>\n",
       "      <td>980.00</td>\n",
       "      <td>8.0</td>\n",
       "      <td>0.0</td>\n",
       "      <td>474.0</td>\n",
       "    </tr>\n",
       "    <tr>\n",
       "      <th>668</th>\n",
       "      <td>2022-10-31</td>\n",
       "      <td>2.0</td>\n",
       "      <td>19500.0</td>\n",
       "      <td>1.55</td>\n",
       "      <td>80.5</td>\n",
       "      <td>987.65</td>\n",
       "      <td>2.0</td>\n",
       "      <td>1.0</td>\n",
       "      <td>9.0</td>\n",
       "    </tr>\n",
       "  </tbody>\n",
       "</table>\n",
       "<p>669 rows × 9 columns</p>\n",
       "</div>"
      ],
      "text/plain": [
       "          Date  WindSpeed  Visibility  Temp  AirHumidity  AtmPressure  \\\n",
       "0   2021-01-01        2.0      4000.0 -0.20         96.0       998.20   \n",
       "1   2021-01-02        1.0      4000.0 -0.10         96.0       997.05   \n",
       "2   2021-01-03        0.5     10000.0  0.55         90.5      1008.90   \n",
       "3   2021-01-04        1.5      4000.0 -0.90         94.0      1008.85   \n",
       "4   2021-01-05        0.5      4000.0 -1.30         94.0      1009.10   \n",
       "..         ...        ...         ...   ...          ...          ...   \n",
       "664 2022-10-27        0.5     19500.0  2.70         77.5      1002.90   \n",
       "665 2022-10-28        0.0     10000.0  7.75         90.5      1003.25   \n",
       "666 2022-10-29        1.0     19000.0  9.60         92.0       992.10   \n",
       "667 2022-10-30        2.0     20000.0  6.95         77.0       980.00   \n",
       "668 2022-10-31        2.0     19500.0  1.55         80.5       987.65   \n",
       "\n",
       "     Rainfall24  Snow  RoadAccs  \n",
       "0          10.0  11.0       NaN  \n",
       "1          11.0  12.0       NaN  \n",
       "2           0.9  16.0       NaN  \n",
       "3           4.4  15.0       NaN  \n",
       "4           0.8  18.0       NaN  \n",
       "..          ...   ...       ...  \n",
       "664         0.0   0.0     903.0  \n",
       "665         1.4   0.0    1093.0  \n",
       "666         2.8   0.0     693.0  \n",
       "667         8.0   0.0     474.0  \n",
       "668         2.0   1.0       9.0  \n",
       "\n",
       "[669 rows x 9 columns]"
      ]
     },
     "execution_count": 18,
     "metadata": {},
     "output_type": "execute_result"
    }
   ],
   "source": [
    "df=df.merge(df_ra, how='outer')\n",
    "df"
   ]
  },
  {
   "cell_type": "markdown",
   "id": "5c395c7a",
   "metadata": {},
   "source": [
    "Поскольку нас интересуют лишь дни, в которых есть информация о ДТП, избавимся от строк, в которых этих данных нет: "
   ]
  },
  {
   "cell_type": "code",
   "execution_count": 19,
   "id": "9de74a98",
   "metadata": {},
   "outputs": [
    {
     "data": {
      "text/html": [
       "<div>\n",
       "<style scoped>\n",
       "    .dataframe tbody tr th:only-of-type {\n",
       "        vertical-align: middle;\n",
       "    }\n",
       "\n",
       "    .dataframe tbody tr th {\n",
       "        vertical-align: top;\n",
       "    }\n",
       "\n",
       "    .dataframe thead th {\n",
       "        text-align: right;\n",
       "    }\n",
       "</style>\n",
       "<table border=\"1\" class=\"dataframe\">\n",
       "  <thead>\n",
       "    <tr style=\"text-align: right;\">\n",
       "      <th></th>\n",
       "      <th>Date</th>\n",
       "      <th>WindSpeed</th>\n",
       "      <th>Visibility</th>\n",
       "      <th>Temp</th>\n",
       "      <th>AirHumidity</th>\n",
       "      <th>AtmPressure</th>\n",
       "      <th>Rainfall24</th>\n",
       "      <th>Snow</th>\n",
       "      <th>RoadAccs</th>\n",
       "    </tr>\n",
       "  </thead>\n",
       "  <tbody>\n",
       "    <tr>\n",
       "      <th>143</th>\n",
       "      <td>2021-05-24</td>\n",
       "      <td>1.0</td>\n",
       "      <td>10000.0</td>\n",
       "      <td>16.20</td>\n",
       "      <td>47.5</td>\n",
       "      <td>999.15</td>\n",
       "      <td>0.7</td>\n",
       "      <td>0.0</td>\n",
       "      <td>985.0</td>\n",
       "    </tr>\n",
       "    <tr>\n",
       "      <th>144</th>\n",
       "      <td>2021-05-25</td>\n",
       "      <td>1.0</td>\n",
       "      <td>10000.0</td>\n",
       "      <td>16.10</td>\n",
       "      <td>50.0</td>\n",
       "      <td>1003.55</td>\n",
       "      <td>0.0</td>\n",
       "      <td>0.0</td>\n",
       "      <td>1197.0</td>\n",
       "    </tr>\n",
       "    <tr>\n",
       "      <th>145</th>\n",
       "      <td>2021-05-26</td>\n",
       "      <td>1.0</td>\n",
       "      <td>10000.0</td>\n",
       "      <td>20.05</td>\n",
       "      <td>45.5</td>\n",
       "      <td>1001.35</td>\n",
       "      <td>0.0</td>\n",
       "      <td>0.0</td>\n",
       "      <td>1254.0</td>\n",
       "    </tr>\n",
       "    <tr>\n",
       "      <th>146</th>\n",
       "      <td>2021-05-27</td>\n",
       "      <td>0.0</td>\n",
       "      <td>10000.0</td>\n",
       "      <td>17.05</td>\n",
       "      <td>84.5</td>\n",
       "      <td>999.40</td>\n",
       "      <td>16.0</td>\n",
       "      <td>0.0</td>\n",
       "      <td>1268.0</td>\n",
       "    </tr>\n",
       "    <tr>\n",
       "      <th>147</th>\n",
       "      <td>2021-05-28</td>\n",
       "      <td>0.0</td>\n",
       "      <td>10000.0</td>\n",
       "      <td>17.75</td>\n",
       "      <td>78.5</td>\n",
       "      <td>994.90</td>\n",
       "      <td>2.0</td>\n",
       "      <td>0.0</td>\n",
       "      <td>1176.0</td>\n",
       "    </tr>\n",
       "    <tr>\n",
       "      <th>...</th>\n",
       "      <td>...</td>\n",
       "      <td>...</td>\n",
       "      <td>...</td>\n",
       "      <td>...</td>\n",
       "      <td>...</td>\n",
       "      <td>...</td>\n",
       "      <td>...</td>\n",
       "      <td>...</td>\n",
       "      <td>...</td>\n",
       "    </tr>\n",
       "    <tr>\n",
       "      <th>664</th>\n",
       "      <td>2022-10-27</td>\n",
       "      <td>0.5</td>\n",
       "      <td>19500.0</td>\n",
       "      <td>2.70</td>\n",
       "      <td>77.5</td>\n",
       "      <td>1002.90</td>\n",
       "      <td>0.0</td>\n",
       "      <td>0.0</td>\n",
       "      <td>903.0</td>\n",
       "    </tr>\n",
       "    <tr>\n",
       "      <th>665</th>\n",
       "      <td>2022-10-28</td>\n",
       "      <td>0.0</td>\n",
       "      <td>10000.0</td>\n",
       "      <td>7.75</td>\n",
       "      <td>90.5</td>\n",
       "      <td>1003.25</td>\n",
       "      <td>1.4</td>\n",
       "      <td>0.0</td>\n",
       "      <td>1093.0</td>\n",
       "    </tr>\n",
       "    <tr>\n",
       "      <th>666</th>\n",
       "      <td>2022-10-29</td>\n",
       "      <td>1.0</td>\n",
       "      <td>19000.0</td>\n",
       "      <td>9.60</td>\n",
       "      <td>92.0</td>\n",
       "      <td>992.10</td>\n",
       "      <td>2.8</td>\n",
       "      <td>0.0</td>\n",
       "      <td>693.0</td>\n",
       "    </tr>\n",
       "    <tr>\n",
       "      <th>667</th>\n",
       "      <td>2022-10-30</td>\n",
       "      <td>2.0</td>\n",
       "      <td>20000.0</td>\n",
       "      <td>6.95</td>\n",
       "      <td>77.0</td>\n",
       "      <td>980.00</td>\n",
       "      <td>8.0</td>\n",
       "      <td>0.0</td>\n",
       "      <td>474.0</td>\n",
       "    </tr>\n",
       "    <tr>\n",
       "      <th>668</th>\n",
       "      <td>2022-10-31</td>\n",
       "      <td>2.0</td>\n",
       "      <td>19500.0</td>\n",
       "      <td>1.55</td>\n",
       "      <td>80.5</td>\n",
       "      <td>987.65</td>\n",
       "      <td>2.0</td>\n",
       "      <td>1.0</td>\n",
       "      <td>9.0</td>\n",
       "    </tr>\n",
       "  </tbody>\n",
       "</table>\n",
       "<p>526 rows × 9 columns</p>\n",
       "</div>"
      ],
      "text/plain": [
       "          Date  WindSpeed  Visibility   Temp  AirHumidity  AtmPressure  \\\n",
       "143 2021-05-24        1.0     10000.0  16.20         47.5       999.15   \n",
       "144 2021-05-25        1.0     10000.0  16.10         50.0      1003.55   \n",
       "145 2021-05-26        1.0     10000.0  20.05         45.5      1001.35   \n",
       "146 2021-05-27        0.0     10000.0  17.05         84.5       999.40   \n",
       "147 2021-05-28        0.0     10000.0  17.75         78.5       994.90   \n",
       "..         ...        ...         ...    ...          ...          ...   \n",
       "664 2022-10-27        0.5     19500.0   2.70         77.5      1002.90   \n",
       "665 2022-10-28        0.0     10000.0   7.75         90.5      1003.25   \n",
       "666 2022-10-29        1.0     19000.0   9.60         92.0       992.10   \n",
       "667 2022-10-30        2.0     20000.0   6.95         77.0       980.00   \n",
       "668 2022-10-31        2.0     19500.0   1.55         80.5       987.65   \n",
       "\n",
       "     Rainfall24  Snow  RoadAccs  \n",
       "143         0.7   0.0     985.0  \n",
       "144         0.0   0.0    1197.0  \n",
       "145         0.0   0.0    1254.0  \n",
       "146        16.0   0.0    1268.0  \n",
       "147         2.0   0.0    1176.0  \n",
       "..          ...   ...       ...  \n",
       "664         0.0   0.0     903.0  \n",
       "665         1.4   0.0    1093.0  \n",
       "666         2.8   0.0     693.0  \n",
       "667         8.0   0.0     474.0  \n",
       "668         2.0   1.0       9.0  \n",
       "\n",
       "[526 rows x 9 columns]"
      ]
     },
     "execution_count": 19,
     "metadata": {},
     "output_type": "execute_result"
    }
   ],
   "source": [
    "df = df[df['RoadAccs'].notnull()]\n",
    "df"
   ]
  },
  {
   "cell_type": "markdown",
   "id": "1a6dc826",
   "metadata": {},
   "source": [
    "Получили те де 526 строк, как в наборе данных о ДТП. Проверим информацию о полученном наборе данных:"
   ]
  },
  {
   "cell_type": "code",
   "execution_count": 20,
   "id": "82f976d9",
   "metadata": {},
   "outputs": [
    {
     "name": "stdout",
     "output_type": "stream",
     "text": [
      "<class 'pandas.core.frame.DataFrame'>\n",
      "Int64Index: 526 entries, 143 to 668\n",
      "Data columns (total 9 columns):\n",
      " #   Column       Non-Null Count  Dtype         \n",
      "---  ------       --------------  -----         \n",
      " 0   Date         526 non-null    datetime64[ns]\n",
      " 1   WindSpeed    526 non-null    float64       \n",
      " 2   Visibility   526 non-null    float64       \n",
      " 3   Temp         526 non-null    float64       \n",
      " 4   AirHumidity  526 non-null    float64       \n",
      " 5   AtmPressure  526 non-null    float64       \n",
      " 6   Rainfall24   526 non-null    float64       \n",
      " 7   Snow         526 non-null    float64       \n",
      " 8   RoadAccs     526 non-null    float64       \n",
      "dtypes: datetime64[ns](1), float64(8)\n",
      "memory usage: 41.1 KB\n"
     ]
    }
   ],
   "source": [
    "df.info()"
   ]
  },
  {
   "cell_type": "markdown",
   "id": "ffe96b56",
   "metadata": {},
   "source": [
    "Видим, что за исклчением столбца с датой, все остальные являются численными. Проверим данные на пропуски:"
   ]
  },
  {
   "cell_type": "code",
   "execution_count": 21,
   "id": "ac7dd01b",
   "metadata": {},
   "outputs": [
    {
     "data": {
      "image/png": "[encoded data removed]",
      "text/plain": [
       "<Figure size 432x288 with 2 Axes>"
      ]
     },
     "metadata": {
      "needs_background": "light"
     },
     "output_type": "display_data"
    }
   ],
   "source": [
    "colours = ['#993366', '#FFFF00']\n",
    "sns.heatmap(df.isnull(), cmap=sns.color_palette(colours))\n",
    "# Decorations\n",
    "plt.title('Матрица пропущенных значений набора данных', fontsize=14)\n",
    "plt.xticks(fontsize=12)\n",
    "plt.yticks(fontsize=12)\n",
    "plt.figtext(0.5, -0.3, \"Рисунок 2. - Матрица пропущенных значений набора данных\", fontsize = 15)\n",
    "plt.show()"
   ]
  },
  {
   "cell_type": "markdown",
   "id": "1533b931",
   "metadata": {},
   "source": [
    "Пропусков нет, но чтобы удостовериться в этом, используем следующую функцию:"
   ]
  },
  {
   "cell_type": "code",
   "execution_count": 22,
   "id": "a18e41ba",
   "metadata": {},
   "outputs": [
    {
     "data": {
      "text/plain": [
       "Date           0\n",
       "WindSpeed      0\n",
       "Visibility     0\n",
       "Temp           0\n",
       "AirHumidity    0\n",
       "AtmPressure    0\n",
       "Rainfall24     0\n",
       "Snow           0\n",
       "RoadAccs       0\n",
       "dtype: int64"
      ]
     },
     "execution_count": 22,
     "metadata": {},
     "output_type": "execute_result"
    }
   ],
   "source": [
    "df.isnull().sum()"
   ]
  },
  {
   "cell_type": "markdown",
   "id": "2140b3c4",
   "metadata": {},
   "source": [
    "# 2. Исследовательский анализ данных"
   ]
  },
  {
   "cell_type": "markdown",
   "id": "eff93068",
   "metadata": {},
   "source": [
    "Вновь посмотрим на наш датасет"
   ]
  },
  {
   "cell_type": "code",
   "execution_count": 23,
   "id": "c601a603",
   "metadata": {},
   "outputs": [
    {
     "data": {
      "text/html": [
       "<div>\n",
       "<style scoped>\n",
       "    .dataframe tbody tr th:only-of-type {\n",
       "        vertical-align: middle;\n",
       "    }\n",
       "\n",
       "    .dataframe tbody tr th {\n",
       "        vertical-align: top;\n",
       "    }\n",
       "\n",
       "    .dataframe thead th {\n",
       "        text-align: right;\n",
       "    }\n",
       "</style>\n",
       "<table border=\"1\" class=\"dataframe\">\n",
       "  <thead>\n",
       "    <tr style=\"text-align: right;\">\n",
       "      <th></th>\n",
       "      <th>Date</th>\n",
       "      <th>WindSpeed</th>\n",
       "      <th>Visibility</th>\n",
       "      <th>Temp</th>\n",
       "      <th>AirHumidity</th>\n",
       "      <th>AtmPressure</th>\n",
       "      <th>Rainfall24</th>\n",
       "      <th>Snow</th>\n",
       "      <th>RoadAccs</th>\n",
       "    </tr>\n",
       "  </thead>\n",
       "  <tbody>\n",
       "    <tr>\n",
       "      <th>143</th>\n",
       "      <td>2021-05-24</td>\n",
       "      <td>1.0</td>\n",
       "      <td>10000.0</td>\n",
       "      <td>16.20</td>\n",
       "      <td>47.5</td>\n",
       "      <td>999.15</td>\n",
       "      <td>0.7</td>\n",
       "      <td>0.0</td>\n",
       "      <td>985.0</td>\n",
       "    </tr>\n",
       "    <tr>\n",
       "      <th>144</th>\n",
       "      <td>2021-05-25</td>\n",
       "      <td>1.0</td>\n",
       "      <td>10000.0</td>\n",
       "      <td>16.10</td>\n",
       "      <td>50.0</td>\n",
       "      <td>1003.55</td>\n",
       "      <td>0.0</td>\n",
       "      <td>0.0</td>\n",
       "      <td>1197.0</td>\n",
       "    </tr>\n",
       "    <tr>\n",
       "      <th>145</th>\n",
       "      <td>2021-05-26</td>\n",
       "      <td>1.0</td>\n",
       "      <td>10000.0</td>\n",
       "      <td>20.05</td>\n",
       "      <td>45.5</td>\n",
       "      <td>1001.35</td>\n",
       "      <td>0.0</td>\n",
       "      <td>0.0</td>\n",
       "      <td>1254.0</td>\n",
       "    </tr>\n",
       "    <tr>\n",
       "      <th>146</th>\n",
       "      <td>2021-05-27</td>\n",
       "      <td>0.0</td>\n",
       "      <td>10000.0</td>\n",
       "      <td>17.05</td>\n",
       "      <td>84.5</td>\n",
       "      <td>999.40</td>\n",
       "      <td>16.0</td>\n",
       "      <td>0.0</td>\n",
       "      <td>1268.0</td>\n",
       "    </tr>\n",
       "    <tr>\n",
       "      <th>147</th>\n",
       "      <td>2021-05-28</td>\n",
       "      <td>0.0</td>\n",
       "      <td>10000.0</td>\n",
       "      <td>17.75</td>\n",
       "      <td>78.5</td>\n",
       "      <td>994.90</td>\n",
       "      <td>2.0</td>\n",
       "      <td>0.0</td>\n",
       "      <td>1176.0</td>\n",
       "    </tr>\n",
       "    <tr>\n",
       "      <th>...</th>\n",
       "      <td>...</td>\n",
       "      <td>...</td>\n",
       "      <td>...</td>\n",
       "      <td>...</td>\n",
       "      <td>...</td>\n",
       "      <td>...</td>\n",
       "      <td>...</td>\n",
       "      <td>...</td>\n",
       "      <td>...</td>\n",
       "    </tr>\n",
       "    <tr>\n",
       "      <th>664</th>\n",
       "      <td>2022-10-27</td>\n",
       "      <td>0.5</td>\n",
       "      <td>19500.0</td>\n",
       "      <td>2.70</td>\n",
       "      <td>77.5</td>\n",
       "      <td>1002.90</td>\n",
       "      <td>0.0</td>\n",
       "      <td>0.0</td>\n",
       "      <td>903.0</td>\n",
       "    </tr>\n",
       "    <tr>\n",
       "      <th>665</th>\n",
       "      <td>2022-10-28</td>\n",
       "      <td>0.0</td>\n",
       "      <td>10000.0</td>\n",
       "      <td>7.75</td>\n",
       "      <td>90.5</td>\n",
       "      <td>1003.25</td>\n",
       "      <td>1.4</td>\n",
       "      <td>0.0</td>\n",
       "      <td>1093.0</td>\n",
       "    </tr>\n",
       "    <tr>\n",
       "      <th>666</th>\n",
       "      <td>2022-10-29</td>\n",
       "      <td>1.0</td>\n",
       "      <td>19000.0</td>\n",
       "      <td>9.60</td>\n",
       "      <td>92.0</td>\n",
       "      <td>992.10</td>\n",
       "      <td>2.8</td>\n",
       "      <td>0.0</td>\n",
       "      <td>693.0</td>\n",
       "    </tr>\n",
       "    <tr>\n",
       "      <th>667</th>\n",
       "      <td>2022-10-30</td>\n",
       "      <td>2.0</td>\n",
       "      <td>20000.0</td>\n",
       "      <td>6.95</td>\n",
       "      <td>77.0</td>\n",
       "      <td>980.00</td>\n",
       "      <td>8.0</td>\n",
       "      <td>0.0</td>\n",
       "      <td>474.0</td>\n",
       "    </tr>\n",
       "    <tr>\n",
       "      <th>668</th>\n",
       "      <td>2022-10-31</td>\n",
       "      <td>2.0</td>\n",
       "      <td>19500.0</td>\n",
       "      <td>1.55</td>\n",
       "      <td>80.5</td>\n",
       "      <td>987.65</td>\n",
       "      <td>2.0</td>\n",
       "      <td>1.0</td>\n",
       "      <td>9.0</td>\n",
       "    </tr>\n",
       "  </tbody>\n",
       "</table>\n",
       "<p>526 rows × 9 columns</p>\n",
       "</div>"
      ],
      "text/plain": [
       "          Date  WindSpeed  Visibility   Temp  AirHumidity  AtmPressure  \\\n",
       "143 2021-05-24        1.0     10000.0  16.20         47.5       999.15   \n",
       "144 2021-05-25        1.0     10000.0  16.10         50.0      1003.55   \n",
       "145 2021-05-26        1.0     10000.0  20.05         45.5      1001.35   \n",
       "146 2021-05-27        0.0     10000.0  17.05         84.5       999.40   \n",
       "147 2021-05-28        0.0     10000.0  17.75         78.5       994.90   \n",
       "..         ...        ...         ...    ...          ...          ...   \n",
       "664 2022-10-27        0.5     19500.0   2.70         77.5      1002.90   \n",
       "665 2022-10-28        0.0     10000.0   7.75         90.5      1003.25   \n",
       "666 2022-10-29        1.0     19000.0   9.60         92.0       992.10   \n",
       "667 2022-10-30        2.0     20000.0   6.95         77.0       980.00   \n",
       "668 2022-10-31        2.0     19500.0   1.55         80.5       987.65   \n",
       "\n",
       "     Rainfall24  Snow  RoadAccs  \n",
       "143         0.7   0.0     985.0  \n",
       "144         0.0   0.0    1197.0  \n",
       "145         0.0   0.0    1254.0  \n",
       "146        16.0   0.0    1268.0  \n",
       "147         2.0   0.0    1176.0  \n",
       "..          ...   ...       ...  \n",
       "664         0.0   0.0     903.0  \n",
       "665         1.4   0.0    1093.0  \n",
       "666         2.8   0.0     693.0  \n",
       "667         8.0   0.0     474.0  \n",
       "668         2.0   1.0       9.0  \n",
       "\n",
       "[526 rows x 9 columns]"
      ]
     },
     "execution_count": 23,
     "metadata": {},
     "output_type": "execute_result"
    }
   ],
   "source": [
    "df"
   ]
  },
  {
   "cell_type": "markdown",
   "id": "2fd629cb",
   "metadata": {},
   "source": [
    "Видим, что в результате удаления строк, в которхы не было данных о ДТП, сбилась индексация. Исправим. "
   ]
  },
  {
   "cell_type": "code",
   "execution_count": 24,
   "id": "b07da035",
   "metadata": {},
   "outputs": [],
   "source": [
    "df = df.reset_index(drop=True)"
   ]
  },
  {
   "cell_type": "code",
   "execution_count": 25,
   "id": "1fa88b96",
   "metadata": {},
   "outputs": [
    {
     "data": {
      "text/plain": [
       "(526, 9)"
      ]
     },
     "execution_count": 25,
     "metadata": {},
     "output_type": "execute_result"
    }
   ],
   "source": [
    "df.shape"
   ]
  },
  {
   "cell_type": "markdown",
   "id": "b9ba39d5",
   "metadata": {},
   "source": [
    "Проверим, есть ли в нашем наборе категорийные данные."
   ]
  },
  {
   "cell_type": "code",
   "execution_count": 26,
   "id": "1c67a094",
   "metadata": {},
   "outputs": [
    {
     "name": "stdout",
     "output_type": "stream",
     "text": [
      "В нашем датафрейме 0 категорийных переменных\n",
      "\n",
      "Категорйиные переменные : []\n"
     ]
    }
   ],
   "source": [
    "categorical = [var for var in df.columns if df[var].dtype=='O']\n",
    "\n",
    "print('В нашем датафрейме {} категорийных переменных\\n'.format(len(categorical)))\n",
    "\n",
    "print('Категорйиные переменные :', categorical)"
   ]
  },
  {
   "cell_type": "code",
   "execution_count": 27,
   "id": "d08e4841",
   "metadata": {},
   "outputs": [
    {
     "name": "stdout",
     "output_type": "stream",
     "text": [
      "В нашем датафрейме 9 числовых столбцов\n",
      "\n",
      "Это следующие столбцы : ['Date', 'WindSpeed', 'Visibility', 'Temp', 'AirHumidity', 'AtmPressure', 'Rainfall24', 'Snow', 'RoadAccs']\n"
     ]
    }
   ],
   "source": [
    "# А что насчет числовых данных?\n",
    "\n",
    "numerical = [var for var in df.columns if df[var].dtype!='O']\n",
    "\n",
    "print('В нашем датафрейме {} числовых столбцов\\n'.format(len(numerical)))\n",
    "\n",
    "print('Это следующие столбцы :', numerical)"
   ]
  },
  {
   "cell_type": "markdown",
   "id": "0b728b1e",
   "metadata": {},
   "source": [
    "Собственно, весь наш набор состоит из числовых значений."
   ]
  },
  {
   "cell_type": "code",
   "execution_count": 28,
   "id": "3749226c",
   "metadata": {},
   "outputs": [
    {
     "data": {
      "text/plain": [
       "Date           0\n",
       "WindSpeed      0\n",
       "Visibility     0\n",
       "Temp           0\n",
       "AirHumidity    0\n",
       "AtmPressure    0\n",
       "Rainfall24     0\n",
       "Snow           0\n",
       "RoadAccs       0\n",
       "dtype: int64"
      ]
     },
     "execution_count": 28,
     "metadata": {},
     "output_type": "execute_result"
    }
   ],
   "source": [
    "# Есть ли в них пропуски данных?\n",
    "\n",
    "df[numerical].isnull().sum()"
   ]
  },
  {
   "cell_type": "code",
   "execution_count": 29,
   "id": "750320ba",
   "metadata": {},
   "outputs": [
    {
     "data": {
      "text/plain": [
       "Text(0, 0.5, 'RoadAccs')"
      ]
     },
     "execution_count": 29,
     "metadata": {},
     "output_type": "execute_result"
    },
    {
     "data": {
      "image/png": "[encoded data removed]",
      "text/plain": [
       "<Figure size 1080x720 with 4 Axes>"
      ]
     },
     "metadata": {
      "needs_background": "light"
     },
     "output_type": "display_data"
    }
   ],
   "source": [
    "# Построим \"ящичные\" диаграммы для визуализации выбросов\n",
    "\n",
    "plt.figure(figsize=(15,10))\n",
    "plt.figtext(0.5, -0.1, \"Рисунок 3. - Диаграммы переменных\", fontsize = 15)\n",
    "\n",
    "plt.subplot(2, 2, 1)\n",
    "fig = df.boxplot(column='WindSpeed')\n",
    "fig.set_title('Скорость ветра')\n",
    "fig.set_ylabel('WindSpeed')\n",
    "\n",
    "plt.subplot(2, 2, 2)\n",
    "fig = df.boxplot(column='Visibility')\n",
    "fig.set_title('Видмость')\n",
    "fig.set_ylabel('Visibility')\n",
    "\n",
    "plt.subplot(2, 2, 3)\n",
    "fig = df.boxplot(column='AirHumidity')\n",
    "fig.set_title('Влажность')\n",
    "fig.set_ylabel('AirHumidity')\n",
    "\n",
    "\n",
    "plt.subplot(2, 2, 4)\n",
    "fig = df.boxplot(column='RoadAccs')\n",
    "fig.set_title('Кол-во ДТП')\n",
    "fig.set_ylabel('RoadAccs')"
   ]
  },
  {
   "cell_type": "markdown",
   "id": "e46b947e",
   "metadata": {},
   "source": [
    "Видим выбросы у скорости ветра и количестве ДТП. Скорее всего, ошибка при сборе датасета."
   ]
  },
  {
   "cell_type": "code",
   "execution_count": 30,
   "id": "e0018267",
   "metadata": {},
   "outputs": [
    {
     "data": {
      "text/plain": [
       "215    1884.0\n",
       "211    1853.0\n",
       "210    1700.0\n",
       "200    1697.0\n",
       "212    1692.0\n",
       "Name: RoadAccs, dtype: float64"
      ]
     },
     "execution_count": 30,
     "metadata": {},
     "output_type": "execute_result"
    }
   ],
   "source": [
    "df['RoadAccs'].nlargest(n=5)"
   ]
  },
  {
   "cell_type": "code",
   "execution_count": 31,
   "id": "0fbde621",
   "metadata": {},
   "outputs": [
    {
     "data": {
      "text/plain": [
       "525      9.0\n",
       "222    151.0\n",
       "350    174.0\n",
       "343    208.0\n",
       "223    213.0\n",
       "Name: RoadAccs, dtype: float64"
      ]
     },
     "execution_count": 31,
     "metadata": {},
     "output_type": "execute_result"
    }
   ],
   "source": [
    "df['RoadAccs'].nsmallest(n=5)"
   ]
  },
  {
   "cell_type": "code",
   "execution_count": 32,
   "id": "ecaac7f4",
   "metadata": {},
   "outputs": [
    {
     "data": {
      "text/plain": [
       "870.0"
      ]
     },
     "execution_count": 32,
     "metadata": {},
     "output_type": "execute_result"
    }
   ],
   "source": [
    "df['RoadAccs'].median()"
   ]
  },
  {
   "cell_type": "code",
   "execution_count": 33,
   "id": "f1e6ab7c",
   "metadata": {},
   "outputs": [],
   "source": [
    "df.at[525, 'RoadAccs'] = 870"
   ]
  },
  {
   "cell_type": "markdown",
   "id": "d2c5300a",
   "metadata": {},
   "source": [
    "Проверим распределение данных по ДТП. нормальное ли оно или скошенное?"
   ]
  },
  {
   "cell_type": "code",
   "execution_count": 34,
   "id": "7e8b0222",
   "metadata": {},
   "outputs": [
    {
     "data": {
      "image/png": "[encoded data removed]",
      "text/plain": [
       "<Figure size 432x288 with 1 Axes>"
      ]
     },
     "metadata": {
      "needs_background": "light"
     },
     "output_type": "display_data"
    }
   ],
   "source": [
    "x = df['RoadAccs']\n",
    "s_array = df[['RoadAccs']].to_numpy()\n",
    "\n",
    "num_bins = 50\n",
    "\n",
    "fig, ax = plt.subplots()\n",
    "\n",
    "# гистограмма данных\n",
    "n, bins, patches = ax.hist(x, num_bins, density=True)\n",
    "\n",
    "ax.set_xlabel('Количество')\n",
    "ax.set_ylabel('Дорожные инциденты')\n",
    "ax.set_title(r\"Рисунок 4. - Гистограмма распределения дорожных инцидентов\", fontsize = 15)\n",
    "fig.tight_layout()\n",
    "plt.show()"
   ]
  },
  {
   "cell_type": "code",
   "execution_count": 35,
   "id": "7c1b8a1c",
   "metadata": {},
   "outputs": [
    {
     "data": {
      "text/plain": [
       "Text(0.5, 1.0, 'Рисунок 5 - Гистограмма осадков')"
      ]
     },
     "execution_count": 35,
     "metadata": {},
     "output_type": "execute_result"
    },
    {
     "data": {
      "image/png": "[encoded data removed]",
      "text/plain": [
       "<Figure size 432x288 with 1 Axes>"
      ]
     },
     "metadata": {
      "needs_background": "light"
     },
     "output_type": "display_data"
    }
   ],
   "source": [
    "# Построим гистограмму распределения осадков\n",
    "sns.histplot(df['Rainfall24'], kde=True)\n",
    "ax.set_title(r'Рисунок 5 - Гистограмма осадков')"
   ]
  },
  {
   "cell_type": "code",
   "execution_count": null,
   "id": "cb350537",
   "metadata": {},
   "outputs": [],
   "source": [
    "# А так выглядит распределение осадков в течение обозреваемого периода\n",
    "fig = go.Figure([go.Scatter(x=df['Date'], y=df['Rainfall24'])])\n",
    "fig.update_layout(legend_orientation=\"h\", title_text='Рисунок 6 - Осадки за два года',\n",
    "                 title_y = 0.07)\n",
    "\n",
    "fig.show()"
   ]
  },
  {
   "cell_type": "markdown",
   "id": "d3f69d76",
   "metadata": {},
   "source": [
    "<img align=\"center\" src=\"img/pic6.png\" height=\"1200\" width=\"1200\">"
   ]
  },
  {
   "cell_type": "code",
   "execution_count": null,
   "id": "cc893514",
   "metadata": {},
   "outputs": [],
   "source": [
    "# Можно построить распределение осадков по датам с помощью библиотеки plotty express, \n",
    "# это добавит интерактивности (можно менять срезы) \n",
    "fig = px.bar(df, x=df['Date'], y='Rainfall24', title='Осадки')\n",
    "\n",
    "fig.update_xaxes(\n",
    "    rangeslider_visible=True,\n",
    "    rangeselector=dict(\n",
    "        buttons=list([\n",
    "            dict(count=1, label=\"1m\", step=\"month\", stepmode=\"backward\"),\n",
    "            dict(count=6, label=\"6m\", step=\"month\", stepmode=\"backward\"),\n",
    "            dict(count=1, label=\"YTD\", step=\"year\", stepmode=\"todate\"),\n",
    "            dict(count=1, label=\"1y\", step=\"year\", stepmode=\"backward\"),\n",
    "            dict(step=\"all\")\n",
    "        ])\n",
    "    )\n",
    ")\n",
    "fig.update_layout(legend_orientation=\"h\", title_text='Рисунок 7 - Осадки за два года, интерактивный',\n",
    "                 title_y = 0.07)\n",
    "fig.show()"
   ]
  },
  {
   "cell_type": "markdown",
   "id": "d41bf2d9",
   "metadata": {},
   "source": [
    "<img align=\"center\" src=\"img/pic7.png\" height=\"1200\" width=\"1200\">"
   ]
  },
  {
   "cell_type": "code",
   "execution_count": null,
   "id": "537bcc8c",
   "metadata": {},
   "outputs": [],
   "source": [
    "# А следующая гистограмма покажет распределение ДТП в зависимости от количества осадков\n",
    "# Можо посмотреть, какая при этом была температура\n",
    "\n",
    "fig = px.histogram(df, x=\"RoadAccs\", y=\"Rainfall24\", color=\"Temp\", \n",
    "                   marginal=\"rug\", hover_data=df.columns, title=\"\")\n",
    "fig.update_layout(title_text='Рисунок 8 - ДТП в зависимости от осадков и какая при этом была температура',\n",
    "                 title_y = 0.04)\n",
    "fig.show()"
   ]
  },
  {
   "cell_type": "markdown",
   "id": "181de8ac",
   "metadata": {},
   "source": [
    "<img align=\"center\" src=\"img/pic8.png\" height=\"1200\" width=\"1200\">"
   ]
  },
  {
   "cell_type": "markdown",
   "id": "47fa6bf8",
   "metadata": {},
   "source": [
    "Для анализа распределения количества ДТП по месяцам и дням добавим в датафрейм два новых столбца, взяв данные из столбца с датами, воспользуемся методом библиотеки Пандас DatetimeIndex:"
   ]
  },
  {
   "cell_type": "code",
   "execution_count": 36,
   "id": "ecbfe89a",
   "metadata": {},
   "outputs": [],
   "source": [
    "df['month'] = pd.DatetimeIndex(df['Date']).month"
   ]
  },
  {
   "cell_type": "code",
   "execution_count": 37,
   "id": "54dc7cfd",
   "metadata": {},
   "outputs": [
    {
     "data": {
      "image/png": "[encoded data removed]",
      "text/plain": [
       "<Figure size 432x288 with 1 Axes>"
      ]
     },
     "metadata": {
      "needs_background": "light"
     },
     "output_type": "display_data"
    }
   ],
   "source": [
    "months = range(1,13)\n",
    "results = df.groupby('month').sum()\n",
    "plt.bar(months, results['RoadAccs'])\n",
    "plt.xticks(months)\n",
    "plt.ylabel('Количество дорожных инцидентов')\n",
    "plt.xlabel('Номер месяца')\n",
    "plt.figtext(0,0,'Рисунок 9 - Распределение ДТП по месяцам ', fontsize=15, ha='center')\n",
    "\n",
    "plt.show()"
   ]
  },
  {
   "cell_type": "markdown",
   "id": "b9a423d0",
   "metadata": {},
   "source": [
    "Видим, что наибольшее количество ДТП происходит с июня по октябрь, также выше среднего их в декабре."
   ]
  },
  {
   "cell_type": "code",
   "execution_count": 38,
   "id": "28f1d2b1",
   "metadata": {},
   "outputs": [],
   "source": [
    "df['DayOfWeek'] = pd.DatetimeIndex(df['Date']).day_name()"
   ]
  },
  {
   "cell_type": "code",
   "execution_count": 39,
   "id": "8a56553a",
   "metadata": {},
   "outputs": [
    {
     "data": {
      "image/png": "[encoded data removed]",
      "text/plain": [
       "<Figure size 432x288 with 1 Axes>"
      ]
     },
     "metadata": {
      "needs_background": "light"
     },
     "output_type": "display_data"
    }
   ],
   "source": [
    "day_of_week = range(1,8)\n",
    "results = df.groupby('DayOfWeek').sum()\n",
    "plt.bar(day_of_week, results['RoadAccs'])\n",
    "plt.xticks(day_of_week)\n",
    "plt.ylabel('Количество дорожных инцидентов')\n",
    "plt.xlabel('День недели')\n",
    "plt.figtext(0,0,'Рисунок 10 - ДТП по дням недели', fontsize=15, ha='center')\n",
    "plt.show()"
   ]
  },
  {
   "cell_type": "markdown",
   "id": "cde30a37",
   "metadata": {},
   "source": [
    "На графике видно четкую тенденцию снижения количества ДТП с начала недели к четвергу, затем, очевидно, накапливается усталость и пятницу вновь происходит рост. Большое количество ДТП на выходных, видимо, объясняется тем, что за руль садятся люди, которые в течение рабочей недели пользуются общественным транспортом."
   ]
  },
  {
   "cell_type": "code",
   "execution_count": 40,
   "id": "6447ae2d",
   "metadata": {},
   "outputs": [
    {
     "data": {
      "text/plain": [
       "count    526.000000\n",
       "mean       3.737643\n",
       "std        8.044042\n",
       "min        0.000000\n",
       "25%        0.000000\n",
       "50%        0.300000\n",
       "75%        3.950000\n",
       "max       59.000000\n",
       "Name: Rainfall24, dtype: float64"
      ]
     },
     "execution_count": 40,
     "metadata": {},
     "output_type": "execute_result"
    }
   ],
   "source": [
    "df['Rainfall24'].describe()"
   ]
  },
  {
   "cell_type": "code",
   "execution_count": 41,
   "id": "8c9b02c7",
   "metadata": {},
   "outputs": [
    {
     "data": {
      "text/html": [
       "<div>\n",
       "<style scoped>\n",
       "    .dataframe tbody tr th:only-of-type {\n",
       "        vertical-align: middle;\n",
       "    }\n",
       "\n",
       "    .dataframe tbody tr th {\n",
       "        vertical-align: top;\n",
       "    }\n",
       "\n",
       "    .dataframe thead th {\n",
       "        text-align: right;\n",
       "    }\n",
       "</style>\n",
       "<table border=\"1\" class=\"dataframe\">\n",
       "  <thead>\n",
       "    <tr style=\"text-align: right;\">\n",
       "      <th></th>\n",
       "      <th>Date</th>\n",
       "      <th>WindSpeed</th>\n",
       "      <th>Visibility</th>\n",
       "      <th>Temp</th>\n",
       "      <th>AirHumidity</th>\n",
       "      <th>AtmPressure</th>\n",
       "      <th>Rainfall24</th>\n",
       "      <th>Snow</th>\n",
       "      <th>RoadAccs</th>\n",
       "      <th>month</th>\n",
       "      <th>DayOfWeek</th>\n",
       "    </tr>\n",
       "  </thead>\n",
       "  <tbody>\n",
       "    <tr>\n",
       "      <th>80</th>\n",
       "      <td>2021-08-12</td>\n",
       "      <td>0.0</td>\n",
       "      <td>4000.0</td>\n",
       "      <td>19.55</td>\n",
       "      <td>93.5</td>\n",
       "      <td>991.8</td>\n",
       "      <td>59.0</td>\n",
       "      <td>0.0</td>\n",
       "      <td>1003.0</td>\n",
       "      <td>8</td>\n",
       "      <td>Thursday</td>\n",
       "    </tr>\n",
       "  </tbody>\n",
       "</table>\n",
       "</div>"
      ],
      "text/plain": [
       "         Date  WindSpeed  Visibility   Temp  AirHumidity  AtmPressure  \\\n",
       "80 2021-08-12        0.0      4000.0  19.55         93.5        991.8   \n",
       "\n",
       "    Rainfall24  Snow  RoadAccs  month DayOfWeek  \n",
       "80        59.0   0.0    1003.0      8  Thursday  "
      ]
     },
     "execution_count": 41,
     "metadata": {},
     "output_type": "execute_result"
    }
   ],
   "source": [
    "df.loc[df['Rainfall24'] == 59]"
   ]
  },
  {
   "cell_type": "markdown",
   "id": "1b85724e",
   "metadata": {},
   "source": [
    "Таким образом, 12 августа 2021 был самым \"мокрым\" днем за последние два года."
   ]
  },
  {
   "cell_type": "markdown",
   "id": "d6ee44f0",
   "metadata": {},
   "source": [
    "# 3. Посмотрим статистические показатели набора"
   ]
  },
  {
   "cell_type": "markdown",
   "id": "933edc32",
   "metadata": {},
   "source": [
    "- Посмотрим среднее значение, дисперсию и стандартное отклонение для переменных. \n",
    "- Определим корелляцию между данными, визуализируем ее. \n",
    "- Построим линейную регрессию зависимости между ценой продукта и его рейтингом."
   ]
  },
  {
   "cell_type": "code",
   "execution_count": 42,
   "id": "d5df7725",
   "metadata": {},
   "outputs": [
    {
     "data": {
      "text/html": [
       "<div>\n",
       "<style scoped>\n",
       "    .dataframe tbody tr th:only-of-type {\n",
       "        vertical-align: middle;\n",
       "    }\n",
       "\n",
       "    .dataframe tbody tr th {\n",
       "        vertical-align: top;\n",
       "    }\n",
       "\n",
       "    .dataframe thead th {\n",
       "        text-align: right;\n",
       "    }\n",
       "</style>\n",
       "<table border=\"1\" class=\"dataframe\">\n",
       "  <thead>\n",
       "    <tr style=\"text-align: right;\">\n",
       "      <th></th>\n",
       "      <th>WindSpeed</th>\n",
       "      <th>Visibility</th>\n",
       "      <th>Temp</th>\n",
       "      <th>AirHumidity</th>\n",
       "      <th>AtmPressure</th>\n",
       "      <th>Rainfall24</th>\n",
       "      <th>Snow</th>\n",
       "      <th>RoadAccs</th>\n",
       "    </tr>\n",
       "  </thead>\n",
       "  <tbody>\n",
       "    <tr>\n",
       "      <th>count</th>\n",
       "      <td>526.0</td>\n",
       "      <td>526.0</td>\n",
       "      <td>526.0</td>\n",
       "      <td>526.0</td>\n",
       "      <td>526.0</td>\n",
       "      <td>526.0</td>\n",
       "      <td>526.0</td>\n",
       "      <td>526.0</td>\n",
       "    </tr>\n",
       "    <tr>\n",
       "      <th>mean</th>\n",
       "      <td>1.0</td>\n",
       "      <td>15721.9</td>\n",
       "      <td>9.8</td>\n",
       "      <td>71.5</td>\n",
       "      <td>996.4</td>\n",
       "      <td>3.7</td>\n",
       "      <td>6.1</td>\n",
       "      <td>852.3</td>\n",
       "    </tr>\n",
       "    <tr>\n",
       "      <th>std</th>\n",
       "      <td>0.7</td>\n",
       "      <td>5305.1</td>\n",
       "      <td>10.1</td>\n",
       "      <td>15.7</td>\n",
       "      <td>10.0</td>\n",
       "      <td>8.0</td>\n",
       "      <td>12.3</td>\n",
       "      <td>306.2</td>\n",
       "    </tr>\n",
       "    <tr>\n",
       "      <th>min</th>\n",
       "      <td>0.0</td>\n",
       "      <td>1200.0</td>\n",
       "      <td>-21.0</td>\n",
       "      <td>31.5</td>\n",
       "      <td>954.8</td>\n",
       "      <td>0.0</td>\n",
       "      <td>0.0</td>\n",
       "      <td>151.0</td>\n",
       "    </tr>\n",
       "    <tr>\n",
       "      <th>25%</th>\n",
       "      <td>0.5</td>\n",
       "      <td>10000.0</td>\n",
       "      <td>1.8</td>\n",
       "      <td>59.6</td>\n",
       "      <td>990.2</td>\n",
       "      <td>0.0</td>\n",
       "      <td>0.0</td>\n",
       "      <td>645.0</td>\n",
       "    </tr>\n",
       "    <tr>\n",
       "      <th>50%</th>\n",
       "      <td>1.0</td>\n",
       "      <td>19500.0</td>\n",
       "      <td>9.6</td>\n",
       "      <td>75.2</td>\n",
       "      <td>996.6</td>\n",
       "      <td>0.3</td>\n",
       "      <td>0.0</td>\n",
       "      <td>870.5</td>\n",
       "    </tr>\n",
       "    <tr>\n",
       "      <th>75%</th>\n",
       "      <td>1.5</td>\n",
       "      <td>20000.0</td>\n",
       "      <td>18.8</td>\n",
       "      <td>84.4</td>\n",
       "      <td>1002.6</td>\n",
       "      <td>4.0</td>\n",
       "      <td>2.0</td>\n",
       "      <td>1038.0</td>\n",
       "    </tr>\n",
       "    <tr>\n",
       "      <th>max</th>\n",
       "      <td>3.5</td>\n",
       "      <td>20000.0</td>\n",
       "      <td>30.0</td>\n",
       "      <td>99.0</td>\n",
       "      <td>1024.8</td>\n",
       "      <td>59.0</td>\n",
       "      <td>49.0</td>\n",
       "      <td>1884.0</td>\n",
       "    </tr>\n",
       "  </tbody>\n",
       "</table>\n",
       "</div>"
      ],
      "text/plain": [
       "       WindSpeed  Visibility   Temp  AirHumidity  AtmPressure  Rainfall24  \\\n",
       "count      526.0       526.0  526.0        526.0        526.0       526.0   \n",
       "mean         1.0     15721.9    9.8         71.5        996.4         3.7   \n",
       "std          0.7      5305.1   10.1         15.7         10.0         8.0   \n",
       "min          0.0      1200.0  -21.0         31.5        954.8         0.0   \n",
       "25%          0.5     10000.0    1.8         59.6        990.2         0.0   \n",
       "50%          1.0     19500.0    9.6         75.2        996.6         0.3   \n",
       "75%          1.5     20000.0   18.8         84.4       1002.6         4.0   \n",
       "max          3.5     20000.0   30.0         99.0       1024.8        59.0   \n",
       "\n",
       "        Snow  RoadAccs  \n",
       "count  526.0     526.0  \n",
       "mean     6.1     852.3  \n",
       "std     12.3     306.2  \n",
       "min      0.0     151.0  \n",
       "25%      0.0     645.0  \n",
       "50%      0.0     870.5  \n",
       "75%      2.0    1038.0  \n",
       "max     49.0    1884.0  "
      ]
     },
     "execution_count": 42,
     "metadata": {},
     "output_type": "execute_result"
    }
   ],
   "source": [
    "round(df[numerical].describe(),1)"
   ]
  },
  {
   "cell_type": "code",
   "execution_count": 43,
   "id": "add8a29e",
   "metadata": {},
   "outputs": [
    {
     "data": {
      "text/plain": [
       "count     526.0\n",
       "mean      852.3\n",
       "std       306.2\n",
       "min       151.0\n",
       "25%       645.0\n",
       "50%       870.5\n",
       "75%      1038.0\n",
       "max      1884.0\n",
       "Name: RoadAccs, dtype: float64"
      ]
     },
     "execution_count": 43,
     "metadata": {},
     "output_type": "execute_result"
    }
   ],
   "source": [
    "round(df['RoadAccs'].describe(),1)"
   ]
  },
  {
   "cell_type": "markdown",
   "id": "b1e8764c",
   "metadata": {},
   "source": [
    "count - количество значений, mean - среднее значение, std — стандартное отклонение значения.\n",
    "min — минимальное значение,  max — максимальное значение"
   ]
  },
  {
   "cell_type": "code",
   "execution_count": 44,
   "id": "cc82270a",
   "metadata": {},
   "outputs": [
    {
     "name": "stdout",
     "output_type": "stream",
     "text": [
      "93767.3\n"
     ]
    }
   ],
   "source": [
    "# Дисперсию определим с помощью библиотеки Numpy\n",
    "print(round(df.RoadAccs.var(), 1))"
   ]
  },
  {
   "cell_type": "markdown",
   "id": "868bf1b2",
   "metadata": {},
   "source": [
    "В статистике дисперсия - это мера того, насколько отдельные (числовые) значения в наборе данных\n",
    "отличаются от среднего или среднего значения . Дисперсия часто используется для количественной\n",
    "оценки разброса или дисперсии. Распространение - это характеристикавыборки или генеральной\n",
    "совокупности, которая описывает степень ее изменчивости.\n",
    "Высокая дисперсия говорит нам о том, что значения в нашем наборе данных далеки от своего среднего.\n",
    "Таким образом, наши данные будут иметь высокий уровень изменчивости. "
   ]
  },
  {
   "cell_type": "markdown",
   "id": "6465704e",
   "metadata": {},
   "source": [
    "Определим самый спокойный день в исследуемом периоде"
   ]
  },
  {
   "cell_type": "code",
   "execution_count": 45,
   "id": "c98944ce",
   "metadata": {},
   "outputs": [
    {
     "data": {
      "text/html": [
       "<div>\n",
       "<style scoped>\n",
       "    .dataframe tbody tr th:only-of-type {\n",
       "        vertical-align: middle;\n",
       "    }\n",
       "\n",
       "    .dataframe tbody tr th {\n",
       "        vertical-align: top;\n",
       "    }\n",
       "\n",
       "    .dataframe thead th {\n",
       "        text-align: right;\n",
       "    }\n",
       "</style>\n",
       "<table border=\"1\" class=\"dataframe\">\n",
       "  <thead>\n",
       "    <tr style=\"text-align: right;\">\n",
       "      <th></th>\n",
       "      <th>Date</th>\n",
       "      <th>WindSpeed</th>\n",
       "      <th>Visibility</th>\n",
       "      <th>Temp</th>\n",
       "      <th>AirHumidity</th>\n",
       "      <th>AtmPressure</th>\n",
       "      <th>Rainfall24</th>\n",
       "      <th>Snow</th>\n",
       "      <th>RoadAccs</th>\n",
       "      <th>month</th>\n",
       "      <th>DayOfWeek</th>\n",
       "    </tr>\n",
       "  </thead>\n",
       "  <tbody>\n",
       "  </tbody>\n",
       "</table>\n",
       "</div>"
      ],
      "text/plain": [
       "Empty DataFrame\n",
       "Columns: [Date, WindSpeed, Visibility, Temp, AirHumidity, AtmPressure, Rainfall24, Snow, RoadAccs, month, DayOfWeek]\n",
       "Index: []"
      ]
     },
     "execution_count": 45,
     "metadata": {},
     "output_type": "execute_result"
    }
   ],
   "source": [
    "df.loc[df['RoadAccs'] == 9]"
   ]
  },
  {
   "cell_type": "markdown",
   "id": "2daf51e3",
   "metadata": {},
   "source": [
    "А теперь -- самый аварийный"
   ]
  },
  {
   "cell_type": "code",
   "execution_count": 46,
   "id": "4847c32e",
   "metadata": {},
   "outputs": [
    {
     "data": {
      "text/html": [
       "<div>\n",
       "<style scoped>\n",
       "    .dataframe tbody tr th:only-of-type {\n",
       "        vertical-align: middle;\n",
       "    }\n",
       "\n",
       "    .dataframe tbody tr th {\n",
       "        vertical-align: top;\n",
       "    }\n",
       "\n",
       "    .dataframe thead th {\n",
       "        text-align: right;\n",
       "    }\n",
       "</style>\n",
       "<table border=\"1\" class=\"dataframe\">\n",
       "  <thead>\n",
       "    <tr style=\"text-align: right;\">\n",
       "      <th></th>\n",
       "      <th>Date</th>\n",
       "      <th>WindSpeed</th>\n",
       "      <th>Visibility</th>\n",
       "      <th>Temp</th>\n",
       "      <th>AirHumidity</th>\n",
       "      <th>AtmPressure</th>\n",
       "      <th>Rainfall24</th>\n",
       "      <th>Snow</th>\n",
       "      <th>RoadAccs</th>\n",
       "      <th>month</th>\n",
       "      <th>DayOfWeek</th>\n",
       "    </tr>\n",
       "  </thead>\n",
       "  <tbody>\n",
       "    <tr>\n",
       "      <th>215</th>\n",
       "      <td>2021-12-25</td>\n",
       "      <td>1.5</td>\n",
       "      <td>6100.0</td>\n",
       "      <td>-10.9</td>\n",
       "      <td>82.0</td>\n",
       "      <td>975.05</td>\n",
       "      <td>12.0</td>\n",
       "      <td>25.0</td>\n",
       "      <td>1884.0</td>\n",
       "      <td>12</td>\n",
       "      <td>Saturday</td>\n",
       "    </tr>\n",
       "  </tbody>\n",
       "</table>\n",
       "</div>"
      ],
      "text/plain": [
       "          Date  WindSpeed  Visibility  Temp  AirHumidity  AtmPressure  \\\n",
       "215 2021-12-25        1.5      6100.0 -10.9         82.0       975.05   \n",
       "\n",
       "     Rainfall24  Snow  RoadAccs  month DayOfWeek  \n",
       "215        12.0  25.0    1884.0     12  Saturday  "
      ]
     },
     "execution_count": 46,
     "metadata": {},
     "output_type": "execute_result"
    }
   ],
   "source": [
    "df.loc[df['RoadAccs'] == 1884]"
   ]
  },
  {
   "cell_type": "markdown",
   "id": "69467b66",
   "metadata": {},
   "source": [
    "Определим корелляцию данных и построим график корелляции"
   ]
  },
  {
   "cell_type": "code",
   "execution_count": 47,
   "id": "a077f846",
   "metadata": {},
   "outputs": [],
   "source": [
    "corr = df.corr()"
   ]
  },
  {
   "cell_type": "code",
   "execution_count": 48,
   "id": "3325bf3f",
   "metadata": {},
   "outputs": [
    {
     "data": {
      "image/png": "[encoded data removed]",
      "text/plain": [
       "<Figure size 1152x720 with 2 Axes>"
      ]
     },
     "metadata": {
      "needs_background": "light"
     },
     "output_type": "display_data"
    }
   ],
   "source": [
    "fig = plt.figure(figsize=(16,10))\n",
    "ax = fig.add_subplot(111)\n",
    "cax = ax.matshow(corr,cmap='coolwarm', vmin=-1, vmax=1)\n",
    "fig.colorbar(cax)\n",
    "ticks = np.arange(0,len(df.columns),1)\n",
    "#ax.set_xticks(ticks)\n",
    "plt.xticks(rotation=90)\n",
    "#ax.set_yticks(ticks)\n",
    "ax.set_xticklabels(df.columns)\n",
    "ax.set_yticklabels(df.columns)\n",
    "plt.figtext(.5,0,'Рисунок 11 - Корелляция данных', fontsize=15, ha='center')\n",
    "plt.show()"
   ]
  },
  {
   "cell_type": "markdown",
   "id": "7d79543d",
   "metadata": {},
   "source": [
    "Видим, что высота снежного покрова сильно зависит от месяца и от температуры(очевидно).\n",
    "Также очевидная зависимость влажности от наличия осдаков.\n",
    "Интересующая нас переменна данных о ДТП имеет слабую корелляцию с месяцем. Корелляция с остальными переменными незначительна.\n",
    "В числовом виде это выглядит так:"
   ]
  },
  {
   "cell_type": "code",
   "execution_count": 49,
   "id": "38180b86",
   "metadata": {},
   "outputs": [
    {
     "data": {
      "text/plain": [
       "<AxesSubplot:>"
      ]
     },
     "execution_count": 49,
     "metadata": {},
     "output_type": "execute_result"
    },
    {
     "data": {
      "image/png": "[encoded data removed]",
      "text/plain": [
       "<Figure size 432x288 with 2 Axes>"
      ]
     },
     "metadata": {
      "needs_background": "light"
     },
     "output_type": "display_data"
    }
   ],
   "source": [
    "sns.heatmap(corr, annot=True, fmt='.2f')"
   ]
  },
  {
   "cell_type": "code",
   "execution_count": 50,
   "id": "7cfd8293",
   "metadata": {},
   "outputs": [
    {
     "data": {
      "image/png": "[encoded data removed]",
      "text/plain": [
       "<Figure size 432x288 with 1 Axes>"
      ]
     },
     "metadata": {
      "needs_background": "light"
     },
     "output_type": "display_data"
    }
   ],
   "source": [
    "months = range(1,13)\n",
    "results = df.groupby('month').sum()\n",
    "plt.bar(months, results['WindSpeed'])\n",
    "plt.xticks(months)\n",
    "plt.ylabel('Скорость ветра')\n",
    "plt.xlabel('Номер месяца')\n",
    "plt.figtext(0,0,'Рисунок 13 - Скорость ветра по месяцам', fontsize=15, ha='center')\n",
    "plt.show()"
   ]
  },
  {
   "cell_type": "code",
   "execution_count": 51,
   "id": "dfb67d72",
   "metadata": {},
   "outputs": [
    {
     "data": {
      "image/png": "[encoded data removed]",
      "text/plain": [
       "<Figure size 432x288 with 1 Axes>"
      ]
     },
     "metadata": {
      "needs_background": "light"
     },
     "output_type": "display_data"
    }
   ],
   "source": [
    "months = range(1,13)\n",
    "results = df.groupby('month').sum()\n",
    "plt.bar(months, results['Snow'])\n",
    "plt.xticks(months)\n",
    "plt.ylabel('Снег')\n",
    "plt.xlabel('Номер месяца')\n",
    "plt.figtext(0,0,'Рисунок 14 - В какие месяцы был снег', fontsize=15, ha='center')\n",
    "plt.show()"
   ]
  },
  {
   "cell_type": "markdown",
   "id": "4ffcc16f",
   "metadata": {},
   "source": [
    "Распределение ДТП"
   ]
  },
  {
   "cell_type": "code",
   "execution_count": 52,
   "id": "eaf53623",
   "metadata": {},
   "outputs": [
    {
     "data": {
      "image/png": "[encoded data removed]",
      "text/plain": [
       "<Figure size 1332x756 with 1 Axes>"
      ]
     },
     "metadata": {
      "needs_background": "light"
     },
     "output_type": "display_data"
    }
   ],
   "source": [
    "sns.distplot(df[\"RoadAccs\"], hist = True,)\n",
    "plt.legend(['Среднее количество ДТП в день: ' + str(np.round(df[\"RoadAccs\"].mean(), 1))],loc = 1)\n",
    "plt.title (\"Рисунок 15 - Распределение ДТП\",fontsize = 15)\n",
    "fig = matplotlib.pyplot.gcf()\n",
    "fig.set_size_inches(18.5, 10.5)"
   ]
  },
  {
   "cell_type": "markdown",
   "id": "615e2364",
   "metadata": {},
   "source": [
    "Распределение ДТП с нормализацией"
   ]
  },
  {
   "cell_type": "code",
   "execution_count": 53,
   "id": "77ba2ff2",
   "metadata": {},
   "outputs": [
    {
     "data": {
      "image/png": "[encoded data removed]",
      "text/plain": [
       "<Figure size 1332x756 with 1 Axes>"
      ]
     },
     "metadata": {
      "needs_background": "light"
     },
     "output_type": "display_data"
    }
   ],
   "source": [
    "normalised_ra =(df[\"RoadAccs\"]-df[\"RoadAccs\"].mean())/df[\"RoadAccs\"].std()\n",
    "sns.distplot(normalised_ra, hist = True)\n",
    "plt.legend(['Среднее кол-во ДТП: ' + str(normalised_ra.mean())],loc = 2)\n",
    "plt.title (\"Рисунок 16 - Нормализованное\",fontsize = 15)\n",
    "fig = matplotlib.pyplot.gcf()\n",
    "fig.set_size_inches(18.5, 10.5)"
   ]
  },
  {
   "cell_type": "code",
   "execution_count": 54,
   "id": "ff02a83f",
   "metadata": {},
   "outputs": [
    {
     "data": {
      "text/plain": [
       "-7.597165397833028e-17"
      ]
     },
     "execution_count": 54,
     "metadata": {},
     "output_type": "execute_result"
    }
   ],
   "source": [
    "normalised_ra.mean()"
   ]
  },
  {
   "cell_type": "code",
   "execution_count": 55,
   "id": "2c874953",
   "metadata": {},
   "outputs": [
    {
     "data": {
      "image/png": "[encoded data removed]",
      "text/plain": [
       "<Figure size 360x360 with 1 Axes>"
      ]
     },
     "metadata": {
      "needs_background": "light"
     },
     "output_type": "display_data"
    }
   ],
   "source": [
    "sns.lmplot(x=\"Rainfall24\", y=\"RoadAccs\", data=df, fit_reg=False)\n",
    "plt.title(\"Рисунок 17 - Корелляция ДТП и дождя\", fontsize = 15)\n",
    "plt.show()"
   ]
  },
  {
   "cell_type": "code",
   "execution_count": 56,
   "id": "72d1036d",
   "metadata": {},
   "outputs": [
    {
     "data": {
      "image/png": "[encoded data removed]",
      "text/plain": [
       "<Figure size 360x360 with 1 Axes>"
      ]
     },
     "metadata": {
      "needs_background": "light"
     },
     "output_type": "display_data"
    }
   ],
   "source": [
    "sns.lmplot(x=\"Snow\", y=\"RoadAccs\", data=df, fit_reg=False)\n",
    "plt.title(\"Рисунок 18 - Корелляция ДТП и снега\", fontsize = 15)\n",
    "plt.show()"
   ]
  },
  {
   "cell_type": "markdown",
   "id": "1f0f65fb",
   "metadata": {},
   "source": [
    "# 4. Проверка Гипотезы\n"
   ]
  },
  {
   "cell_type": "code",
   "execution_count": 57,
   "id": "1d50e8fb",
   "metadata": {},
   "outputs": [
    {
     "name": "stdout",
     "output_type": "stream",
     "text": [
      "Среднее кол-во ДТП:  -7.597165397833028e-17 , Сигма ДТП: 0.9990489774358359\n"
     ]
    }
   ],
   "source": [
    "mu = normalised_ra.mean()\n",
    "sigma = normalised_ra.std(ddof=0)\n",
    "print(\"Среднее кол-во ДТП: \", mu, \", Сигма ДТП:\", sigma)"
   ]
  },
  {
   "cell_type": "markdown",
   "id": "8f10eebc",
   "metadata": {},
   "source": [
    "### Корреляция Пирсона"
   ]
  },
  {
   "cell_type": "markdown",
   "id": "cd9fb0b5",
   "metadata": {},
   "source": [
    "Статистический тест для проверки связи двух количественных переменных называется корелляцией Пирсона.\n",
    "\n",
    "<b>Пирсон Корреляционный</b> тест используется для анализа силы связи между двумя предоставленными переменными, обеими количественными по своей природе. Значение, или сила корреляции Пирсона, будет находиться между +1 и -1 .\n",
    "\n",
    "Корреляция 1 указывает на совершенную связь между переменными, причем корреляция либо положительная, либо отрицательная. Коэффициенты корреляции около 0 указывают на очень слабые, почти несуществующие корреляции. Хотя существуют и другие способы измерения корреляций между двумя переменными, такие как корреляция Спирмена или ранговая корреляция Кендалла , корреляция Пирсона, вероятно, является наиболее часто используемым корреляционным тестом."
   ]
  },
  {
   "cell_type": "code",
   "execution_count": 58,
   "id": "a54233db",
   "metadata": {},
   "outputs": [
    {
     "data": {
      "image/png": "[encoded data removed]",
      "text/plain": [
       "<Figure size 432x288 with 1 Axes>"
      ]
     },
     "metadata": {
      "needs_background": "light"
     },
     "output_type": "display_data"
    },
    {
     "data": {
      "image/png": "[encoded data removed]",
      "text/plain": [
       "<Figure size 432x288 with 1 Axes>"
      ]
     },
     "metadata": {
      "needs_background": "light"
     },
     "output_type": "display_data"
    },
    {
     "name": "stdout",
     "output_type": "stream",
     "text": [
      "Зависимость количества ДТП от дождя\n",
      "(0.15962363332096413, 0.00023710163131864263)\n",
      "Зависимость количества ДТП от снега\n",
      "(0.06603029035069101, 0.13042390190020858)\n"
     ]
    }
   ],
   "source": [
    "def plt_regression(x, y, data, label_1, label_2):\n",
    "\n",
    "    reg_plot = regplot(x=x, y=y, fit_reg=True, data=data)\n",
    "    plt.xlabel(label_1)\n",
    "    plt.ylabel(label_2)\n",
    "    plt.show()\n",
    "plt.title(\"Рисунок 19 - Корелляция ДТП и дождя\", fontsize = 15)\n",
    "plt_regression('Rainfall24', 'RoadAccs', df, 'Дождь', 'Количество ДТП')\n",
    "plt.title(\"Рисунок 20 - Корелляция ДТП и снегая\", fontsize = 15)\n",
    "plt_regression('Snow', 'RoadAccs', df, 'Снег', 'Количество ДТП')\n",
    "\n",
    "print('Зависимость количества ДТП от дождя')\n",
    "print(pearsonr(df['RoadAccs'], df['Rainfall24']))\n",
    "\n",
    "print('Зависимость количества ДТП от снега')\n",
    "print(pearsonr(df['RoadAccs'], df['Snow']))\n"
   ]
  },
  {
   "cell_type": "markdown",
   "id": "a9c8123f",
   "metadata": {},
   "source": [
    "Первое значение - это направление и сила корреляции, а второе-Р-значение. \n",
    "Эти цифры свидетельствуют о слабой корреляции между ДТП и осадками."
   ]
  },
  {
   "cell_type": "markdown",
   "id": "9d2f8240",
   "metadata": {},
   "source": [
    "Таким образом, наша гипотеза о взаимосвязи ДТП и погодных явлений не подтвердилась."
   ]
  },
  {
   "cell_type": "markdown",
   "id": "3e0db826",
   "metadata": {},
   "source": [
    "# 5. Выводы"
   ]
  },
  {
   "cell_type": "markdown",
   "id": "28882c81",
   "metadata": {},
   "source": [
    "- Наибольшее количество ДТП в Москве происходит с июня по октябрь, также выше среднего их в декабре. Возможно, это связано с дачным сезоном.\n",
    "\n",
    "- Больше всего ДТП происходит с пятницы по понедельник, к четвергу есть тенденция снижения.\n",
    "\n",
    "- Высота снежного покрова сильно зависит от месяца и от температуры(очевидно). Также очевидна зависимость влажности от наличия осдаков. Количество ДТП имеет слабую корелляцию с дождем, температурой, месяцем и видимостью. С остальными переменными корелляция ДТП крайне мала. \n",
    "\n",
    "- Гипотеза о том, что осадки влияют на ДТП на дорогах не подтвердилась."
   ]
  },
  {
   "cell_type": "markdown",
   "id": "8b67fb78",
   "metadata": {},
   "source": [
    "## Ссылки"
   ]
  },
  {
   "cell_type": "markdown",
   "id": "1d1696b7",
   "metadata": {},
   "source": [
    "При работе над данным исследованием использовались следующие источники и литература:\n",
    "\n",
    "1. Бенгфорт Бенджамин, Билбро Ребекка, Охеда Тони, Прикладной анализ текстовых данных на\n",
    "Python. Машинное обучение и создание приложений обработки естественного языка. — СПб.:\n",
    "Питер, 2019.\n",
    "\n",
    "2.  Шарден Б., Массарон Л., Боскетти А., Крупномасштабное машинное обучение вместе с Python. Пер.\n",
    "с анг. А. В. Логунова. – М.: ДМК Пресс, 2018.\n",
    "\n",
    "3. https://stackoverflow.com\n",
    "\n",
    "4. https://pythobyte.com/how-to-get-the-variance-of-a-list-in-python-a254719a/\n",
    "\n",
    "5. https://datalens.yandex.ru\n",
    "\n",
    "6. http://www.pogodaiklimat.ru/\n",
    "\n",
    "7. https://habr.com/ru/post/557998/\n",
    "\n",
    "8. https://pythobyte.com/statistical-hypothesis-analysis-in-python-with-anovas-chi-square-and-pearson-correlation-be15ad06/\n",
    "\n",
    "9. https://www.kaggle.com/neisha/heart-disease-prediction-using-logistic-regression"
   ]
  }
 ],
 "metadata": {
  "kernelspec": {
   "display_name": "Python 3 (ipykernel)",
   "language": "python",
   "name": "python3"
  },
  "language_info": {
   "codemirror_mode": {
    "name": "ipython",
    "version": 3
   },
   "file_extension": ".py",
   "mimetype": "text/x-python",
   "name": "python",
   "nbconvert_exporter": "python",
   "pygments_lexer": "ipython3",
   "version": "3.9.12"
  }
 },
 "nbformat": 4,
 "nbformat_minor": 5
}
